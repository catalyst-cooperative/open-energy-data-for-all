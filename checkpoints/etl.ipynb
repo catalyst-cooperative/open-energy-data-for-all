{
 "cells": [
  {
   "cell_type": "code",
   "execution_count": null,
   "id": "d7b1c0f4",
   "metadata": {},
   "outputs": [],
   "source": [
    "import pandas as pd\n",
    "import numpy as np\n",
    "\n",
    "# Silence some warnings about deprecated Pandas behavior\n",
    "pd.set_option(\"future.no_silent_downcasting\", True)"
   ]
  },
  {
   "cell_type": "code",
   "execution_count": null,
   "id": "be52c29c-6fae-4b5b-9a04-1f632595f5a1",
   "metadata": {},
   "outputs": [],
   "source": [
    "# Utility functions\n",
    "def melt_monthly_vars(pr_gen_fuel: pd.DataFrame, variable_name: str) -> pd.DataFrame:\n",
    "    \"\"\"Melt many columns of monthly data for a single variable into a month column and a value column.\n",
    "\n",
    "    This code takes a table with data stored in one column per month and stacks all the fields for a single variable (fuel_consumed_for_electricity_mmbtu), returning a table with one month column and one value column for this variable in\n",
    "    order to make it easier to plot our data over time. Note that this drops the other variables of data.\n",
    "\n",
    "    Args:\n",
    "        pr_gen_fuel: EIA 923 Puerto Rico generation fuel data.\n",
    "        variable_name: The variable to be melted.\n",
    "\n",
    "    Returns:\n",
    "        var_melt: A dataframe containing only index columns, a month column and the melted variable data.\n",
    "    \"\"\"\n",
    "    var_cols = index_cols + [col for col in pr_gen_fuel.columns if col.startswith(variable_name)]\n",
    "    var_df = pr_gen_fuel.loc[:, var_cols]\n",
    "\n",
    "    ## Melt the fuel_consumed columns\n",
    "    var_melt = var_df.melt(\n",
    "        id_vars=index_cols,\n",
    "        var_name=\"month\",\n",
    "        value_name=variable_name\n",
    "    )\n",
    "    var_melt[\"month\"] = var_melt[\"month\"].str.replace(f\"{variable_name}_\", \"\")\n",
    "    var_melt = var_melt.set_index(index_cols + [\"month\"])\n",
    "    return var_melt\n",
    "\n",
    "def handle_data_types(pr_df: pd.DataFrame, categorical_cols: list[str]) -> pd.DataFrame:\n",
    "    \"\"\"Convert EIA 923 PR columns into desired data types.\n",
    "\n",
    "    In addition to using the standard convert_dtypes() function, handle a series of\n",
    "    non-standard data types conversions for associated_combined_heat_power\n",
    "    and create categorical columns to save memory.\n",
    "\n",
    "    Args:\n",
    "        pr_df: Dataframe with EIA 923 Puerto Rico data.\n",
    "        categorical_cols: List of columns that should be converted to a categorical dtype.\n",
    "\n",
    "    Returns:\n",
    "        pr_df: A dataframe with converted data types.\n",
    "    \"\"\"\n",
    "    pr_df = pr_df.convert_dtypes()\n",
    "    pr_df[\"associated_combined_heat_power\"] = (\n",
    "        pr_df[\"associated_combined_heat_power\"]\n",
    "        .astype(\"object\") # necessary for the types to work for the .replace() call\n",
    "        .replace({\"Y\": True, \"N\": False})\n",
    "        .astype(\"boolean\")\n",
    "    )\n",
    "    pr_df = pr_df.astype({col: \"category\" for col in categorical_cols})\n",
    "    return pr_df"
   ]
  },
  {
   "cell_type": "code",
   "execution_count": null,
   "id": "be64018e",
   "metadata": {},
   "outputs": [],
   "source": [
    "# Read in the raw data\n",
    "pr_gen_fuel = pd.read_parquet(\"../data/raw_eia923__puerto_rico_generation_fuel.parquet\")\n",
    "pr_plant_frame = pd.read_parquet(\"../data/raw_eia923__puerto_rico_plant_frame.parquet\")"
   ]
  },
  {
   "cell_type": "code",
   "execution_count": null,
   "id": "bcade08e-bc87-456d-b5fc-49ff209e7543",
   "metadata": {},
   "outputs": [],
   "source": [
    "# Handle EIA null values\n",
    "pr_gen_fuel = pr_gen_fuel.replace(to_replace = \".\", value = pd.NA)\n",
    "\n",
    "# Convert data types (mmbtu/units to numeric, booleans, categories)\n",
    "pr_gen_fuel = handle_data_types(\n",
    "        pr_gen_fuel,\n",
    "        categorical_cols = [\"energy_source_code\",\"fuel_type_code_agg\", \"prime_mover_code\", \"reporting_frequency_code\", \"data_maturity\", \"plant_state\"]\n",
    "                            )\n",
    "\n",
    "for colname in pr_gen_fuel.columns: # TODO: Do we need this? Check.\n",
    "    if (\n",
    "        \"fuel_consumption\" in colname\n",
    "        or \"fuel_consumed\" in colname\n",
    "        or \"net_generation\" in colname\n",
    "        or \"fuel_mmbtu_per_unit\" in colname\n",
    "    ):\n",
    "        pr_gen_fuel[colname] = pr_gen_fuel[colname].astype(\"float64\")"
   ]
  },
  {
   "cell_type": "code",
   "execution_count": 4,
   "id": "0650c49a-84e1-4f2d-94bb-faf8b1619977",
   "metadata": {},
   "outputs": [],
   "source": [
    "# Handle EIA null values\n",
    "pr_plant_frame = pr_plant_frame.replace(to_replace = \".\", value = pd.NA)\n",
    "\n",
    "# Convert data types (mmbtu/units to numeric, categories, booleans)\n",
    "pr_plant_frame = handle_data_types(pr_plant_frame, categorical_cols = [\"reporting_frequency_code\", \"data_maturity\", \"plant_state\"])"
   ]
  },
  {
   "cell_type": "code",
   "execution_count": 5,
   "id": "d9475f71-5db3-41d6-a414-32ebd9210d1d",
   "metadata": {},
   "outputs": [],
   "source": [
    "#### monthly pivoting\n",
    "# set up shared index\n",
    "index_cols = [\"plant_id_eia\", \"plant_name_eia\", \"report_year\", \"prime_mover_code\", \"energy_source_code\", \"fuel_unit\"]\n",
    "\n",
    "# Pivot variable columns\n",
    "fuel_elec_mmbtu_melt = melt_monthly_vars(pr_gen_fuel, \"fuel_consumed_for_electricity_mmbtu\")\n",
    "fuel_elec_units_melt = melt_monthly_vars(pr_gen_fuel, \"fuel_consumed_for_electricity_units\")\n",
    "fuel_mmbtu_melt = melt_monthly_vars(pr_gen_fuel, \"fuel_consumed_mmbtu\")\n",
    "fuel_units_melt = melt_monthly_vars(pr_gen_fuel, \"fuel_consumed_units\")\n",
    "net_gen_melt = melt_monthly_vars(pr_gen_fuel, \"net_generation_mwh\")\n",
    "\n",
    "# Combine all the pivoted DFs\n",
    "pr_gen_fuel_melt = pd.concat(\n",
    "    [fuel_elec_mmbtu_melt, fuel_elec_units_melt, fuel_mmbtu_melt, fuel_units_melt, net_gen_melt],\n",
    "    axis=\"columns\",\n",
    ").reset_index()"
   ]
  },
  {
   "cell_type": "code",
   "execution_count": 6,
   "id": "857a59e8-c0c9-4c82-a734-e85141c9d61a",
   "metadata": {},
   "outputs": [],
   "source": [
    "## Create date from month and year\n",
    "pr_gen_fuel_melt[\"date\"] = pd.to_datetime(\n",
    "    pr_gen_fuel_melt[\"month\"] + pr_gen_fuel_melt[\"report_year\"].astype(str),\n",
    "    format=\"%B%Y\",\n",
    ")\n",
    "## Drop old date columns\n",
    "pr_gen_fuel_clean = pr_gen_fuel_melt.drop(columns = [\"report_year\", \"month\"])"
   ]
  },
  {
   "cell_type": "code",
   "execution_count": null,
   "id": "f118d3af",
   "metadata": {},
   "outputs": [],
   "source": [
    "# Plant 62410 has two 2020 data entries but one is null\n",
    "# Drop the bad row\n",
    "pr_gen_fuel_final = pr_gen_fuel_clean.loc[\n",
    "    ~((pr_gen_fuel_clean.plant_id_eia == 62410) \n",
    "    & (pr_gen_fuel_clean.date.dt.year == 2020)\n",
    "    & (pr_gen_fuel_clean.fuel_consumed_for_electricity_mmbtu.isnull()))\n",
    "]\n",
    "\n",
    "# drop after 2025-03-01 (for now) as these values should not exist\n",
    "pr_gen_fuel_final = pr_gen_fuel_final.loc[pr_gen_fuel_clean.date < pd.Timestamp(\"2025-03-01\")]"
   ]
  },
  {
   "cell_type": "code",
   "execution_count": null,
   "id": "bbba715f-f172-418e-8e4a-9f178e983350",
   "metadata": {},
   "outputs": [],
   "source": [
    "### output the data to Parquet files\n",
    "pr_gen_fuel_final.to_parquet(\"../data/pr_gen_fuel_monthly.parquet\")\n",
    "pr_plant_frame.to_parquet(\"../data/pr_plant_frame.parquet\")"
   ]
  }
 ],
 "metadata": {
  "kernelspec": {
   "display_name": "Python 3 (ipykernel)",
   "language": "python",
   "name": "python3"
  },
  "language_info": {
   "codemirror_mode": {
    "name": "ipython",
    "version": 3
   },
   "file_extension": ".py",
   "mimetype": "text/x-python",
   "name": "python",
   "nbconvert_exporter": "python",
   "pygments_lexer": "ipython3",
   "version": "3.12.3"
  }
 },
 "nbformat": 4,
 "nbformat_minor": 5
}
