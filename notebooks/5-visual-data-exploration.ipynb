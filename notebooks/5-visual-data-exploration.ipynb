{
 "cells": [
  {
   "cell_type": "markdown",
   "id": "ff3f79c7-2b73-4c6f-8a37-5d15b058c53f",
   "metadata": {},
   "source": [
    "# Visual Data Exploration\n",
    "\n"
   ]
  },
  {
   "cell_type": "code",
   "execution_count": 1,
   "id": "3559bfc4-a8c2-43bd-9a74-2d2de0890469",
   "metadata": {},
   "outputs": [],
   "source": [
    "raw_file = \"../data/raw_eia923__puerto_rico_generation_fuel.parquet\"\n",
    "annual_file = \"../data/pr_gen_fuel_annual.parquet\"\n",
    "monthly_file = \"../data/pr_gen_fuel_monthly.parquet\""
   ]
  },
  {
   "cell_type": "code",
   "execution_count": null,
   "id": "90a900d9-9fa4-48d5-b8ed-3cf9562c3285",
   "metadata": {},
   "outputs": [],
   "source": [
    "pr_gen_fuel_annual[category_columns].describe()"
   ]
  },
  {
   "cell_type": "code",
   "execution_count": null,
   "id": "76469fbf-dcd8-431a-a478-6fb648ec436e",
   "metadata": {},
   "outputs": [],
   "source": [
    "pr_gen_fuel_annual.fuel_unit.value_counts()"
   ]
  },
  {
   "cell_type": "code",
   "execution_count": null,
   "id": "5c30929e-0a8b-4472-b2df-697fc487d7c7",
   "metadata": {},
   "outputs": [],
   "source": [
    "pr_gen_fuel_annual.loc[pr_gen_fuel_annual.fuel_unit == \"megawatthours\", category_columns].describe()"
   ]
  },
  {
   "cell_type": "code",
   "execution_count": null,
   "id": "af861e87-c971-49fb-a1a8-304a6350139c",
   "metadata": {},
   "outputs": [],
   "source": [
    "measurement_columns = [\n",
    "    \"elec_fuel_consumption_mmbtu\", \"electric_fuel_consumption_quantity\",\n",
    "    \"total_fuel_consumption_mmbtu\", \"total_fuel_consumption_quantity\",\n",
    "    \"total_net_generation_mwh\"\n",
    "]"
   ]
  },
  {
   "cell_type": "code",
   "execution_count": null,
   "id": "06ec81cb-b9a5-4edb-afb2-5960c4a824c5",
   "metadata": {},
   "outputs": [],
   "source": [
    "for gr, df in pr_gen_fuel_annual.groupby(\"energy_source_code\"):\n",
    "    axs = df.hist(column=elec_fuel_consumption_cols, sharey=True)\n",
    "    axs[-1][-1].legend([gr])"
   ]
  },
  {
   "cell_type": "code",
   "execution_count": null,
   "id": "62949100-99e8-498e-b894-be1aa2b68ce4",
   "metadata": {},
   "outputs": [],
   "source": [
    "(\n",
    "    pr_gen_fuel_monthly.set_index(\"energy_source_code\").loc[renewables].reset_index()\n",
    "    .groupby([\"energy_source_code\", \"date\"]).sum()\n",
    "    .net_generation_mwh.unstack(\"energy_source_code\").plot()\n",
    ")"
   ]
  },
  {
   "cell_type": "code",
   "execution_count": null,
   "id": "9f1e3166-f827-4554-a269-b2a3291db733",
   "metadata": {},
   "outputs": [],
   "source": [
    "(\n",
    "    renewables_monthly\n",
    "    .plot.scatter(x=\"net_generation_mwh\", y=\"fuel_consumed_mmbtu\", s=0.2, c=\"date\", colormap=\"rainbow\")\n",
    ")"
   ]
  },
  {
   "cell_type": "code",
   "execution_count": null,
   "id": "458f7973-cc53-47e0-8e89-9af53d4ed529",
   "metadata": {},
   "outputs": [],
   "source": []
  }
 ],
 "metadata": {
  "kernelspec": {
   "display_name": "Python 3 (ipykernel)",
   "language": "python",
   "name": "python3"
  },
  "language_info": {
   "codemirror_mode": {
    "name": "ipython",
    "version": 3
   },
   "file_extension": ".py",
   "mimetype": "text/x-python",
   "name": "python",
   "nbconvert_exporter": "python",
   "pygments_lexer": "ipython3",
   "version": "3.12.7"
  }
 },
 "nbformat": 4,
 "nbformat_minor": 5
}
