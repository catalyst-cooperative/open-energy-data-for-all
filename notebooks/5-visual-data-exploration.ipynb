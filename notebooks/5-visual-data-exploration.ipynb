{
 "cells": [
  {
   "cell_type": "markdown",
   "id": "ff3f79c7-2b73-4c6f-8a37-5d15b058c53f",
   "metadata": {},
   "source": [
    "# Visual Data Exploration\n",
    "\n"
   ]
  },
  {
   "cell_type": "code",
   "execution_count": 1,
   "id": "3559bfc4-a8c2-43bd-9a74-2d2de0890469",
   "metadata": {},
   "outputs": [],
   "source": [
    "raw_file = \"../data/raw_eia923__puerto_rico_generation_fuel.parquet\"\n",
    "annual_file = \"../data/pr_gen_fuel_annual.parquet\"\n",
    "monthly_file = \"../data/pr_gen_fuel_monthly.parquet\""
   ]
  },
  {
   "cell_type": "code",
   "execution_count": null,
   "id": "a006d251-346d-42c7-9ca0-0a3ceb505b3c",
   "metadata": {},
   "outputs": [],
   "source": [
    "#timecheck: 48m"
   ]
  },
  {
   "cell_type": "code",
   "execution_count": 32,
   "id": "9346cc37-46f2-412b-a8f7-fdb53d568c3b",
   "metadata": {},
   "outputs": [
    {
     "data": {
      "text/plain": [
       "(450, 24)"
      ]
     },
     "execution_count": 32,
     "metadata": {},
     "output_type": "execute_result"
    }
   ],
   "source": [
    "pr_gen_fuel_annual.shape"
   ]
  },
  {
   "cell_type": "code",
   "execution_count": 31,
   "id": "fbfa78ab-8463-4847-9be4-8dd5cda1b362",
   "metadata": {},
   "outputs": [
    {
     "data": {
      "text/plain": [
       "count     349\n",
       "unique      3\n",
       "top         M\n",
       "freq      181\n",
       "Name: reporting_frequency_code, dtype: object"
      ]
     },
     "execution_count": 31,
     "metadata": {},
     "output_type": "execute_result"
    }
   ],
   "source": [
    "pr_gen_fuel_annual.reporting_frequency_code.describe()"
   ]
  },
  {
   "cell_type": "code",
   "execution_count": 33,
   "id": "df9f04d9-d181-4a23-981f-8b72f90772e5",
   "metadata": {},
   "outputs": [
    {
     "data": {
      "text/plain": [
       "count         319\n",
       "unique          4\n",
       "top       barrels\n",
       "freq          237\n",
       "Name: fuel_unit, dtype: object"
      ]
     },
     "execution_count": 33,
     "metadata": {},
     "output_type": "execute_result"
    }
   ],
   "source": [
    "pr_gen_fuel_annual.fuel_unit.describe()"
   ]
  },
  {
   "cell_type": "code",
   "execution_count": 34,
   "id": "ef7b4286-f7df-4cf9-9e7b-7d9dc27f13b7",
   "metadata": {},
   "outputs": [
    {
     "data": {
      "text/plain": [
       "fuel_unit\n",
       "barrels          237\n",
       "mcf               49\n",
       "megawatthours     24\n",
       "short tons         9\n",
       "Name: count, dtype: int64"
      ]
     },
     "execution_count": 34,
     "metadata": {},
     "output_type": "execute_result"
    }
   ],
   "source": [
    "pr_gen_fuel_annual.fuel_unit.value_counts()"
   ]
  },
  {
   "cell_type": "code",
   "execution_count": 36,
   "id": "2b4cf04e-f261-4b1c-9d90-8a40104d71a6",
   "metadata": {},
   "outputs": [
    {
     "data": {
      "text/html": [
       "<div>\n",
       "<style scoped>\n",
       "    .dataframe tbody tr th:only-of-type {\n",
       "        vertical-align: middle;\n",
       "    }\n",
       "\n",
       "    .dataframe tbody tr th {\n",
       "        vertical-align: top;\n",
       "    }\n",
       "\n",
       "    .dataframe thead th {\n",
       "        text-align: right;\n",
       "    }\n",
       "</style>\n",
       "<table border=\"1\" class=\"dataframe\">\n",
       "  <thead>\n",
       "    <tr style=\"text-align: right;\">\n",
       "      <th></th>\n",
       "      <th>energy_source_code</th>\n",
       "      <th>fuel_type_code_agg</th>\n",
       "      <th>fuel_unit</th>\n",
       "      <th>plant_state</th>\n",
       "      <th>prime_mover_code</th>\n",
       "      <th>reporting_frequency_code</th>\n",
       "      <th>data_maturity</th>\n",
       "    </tr>\n",
       "  </thead>\n",
       "  <tbody>\n",
       "    <tr>\n",
       "      <th>5</th>\n",
       "      <td>MWH</td>\n",
       "      <td>OTH</td>\n",
       "      <td>megawatthours</td>\n",
       "      <td>PR</td>\n",
       "      <td>BA</td>\n",
       "      <td>NaN</td>\n",
       "      <td>final</td>\n",
       "    </tr>\n",
       "    <tr>\n",
       "      <th>7</th>\n",
       "      <td>MWH</td>\n",
       "      <td>OTH</td>\n",
       "      <td>megawatthours</td>\n",
       "      <td>PR</td>\n",
       "      <td>BA</td>\n",
       "      <td>NaN</td>\n",
       "      <td>final</td>\n",
       "    </tr>\n",
       "    <tr>\n",
       "      <th>40</th>\n",
       "      <td>MWH</td>\n",
       "      <td>OTH</td>\n",
       "      <td>megawatthours</td>\n",
       "      <td>PR</td>\n",
       "      <td>BA</td>\n",
       "      <td>M</td>\n",
       "      <td>final</td>\n",
       "    </tr>\n",
       "    <tr>\n",
       "      <th>42</th>\n",
       "      <td>MWH</td>\n",
       "      <td>OTH</td>\n",
       "      <td>megawatthours</td>\n",
       "      <td>PR</td>\n",
       "      <td>BA</td>\n",
       "      <td>M</td>\n",
       "      <td>final</td>\n",
       "    </tr>\n",
       "    <tr>\n",
       "      <th>83</th>\n",
       "      <td>MWH</td>\n",
       "      <td>OTH</td>\n",
       "      <td>megawatthours</td>\n",
       "      <td>PR</td>\n",
       "      <td>BA</td>\n",
       "      <td>M</td>\n",
       "      <td>final</td>\n",
       "    </tr>\n",
       "    <tr>\n",
       "      <th>86</th>\n",
       "      <td>MWH</td>\n",
       "      <td>OTH</td>\n",
       "      <td>megawatthours</td>\n",
       "      <td>PR</td>\n",
       "      <td>BA</td>\n",
       "      <td>M</td>\n",
       "      <td>final</td>\n",
       "    </tr>\n",
       "    <tr>\n",
       "      <th>93</th>\n",
       "      <td>MWH</td>\n",
       "      <td>OTH</td>\n",
       "      <td>megawatthours</td>\n",
       "      <td>PR</td>\n",
       "      <td>BA</td>\n",
       "      <td>A</td>\n",
       "      <td>final</td>\n",
       "    </tr>\n",
       "    <tr>\n",
       "      <th>138</th>\n",
       "      <td>MWH</td>\n",
       "      <td>OTH</td>\n",
       "      <td>megawatthours</td>\n",
       "      <td>PR</td>\n",
       "      <td>BA</td>\n",
       "      <td>M</td>\n",
       "      <td>final</td>\n",
       "    </tr>\n",
       "    <tr>\n",
       "      <th>141</th>\n",
       "      <td>MWH</td>\n",
       "      <td>OTH</td>\n",
       "      <td>megawatthours</td>\n",
       "      <td>PR</td>\n",
       "      <td>BA</td>\n",
       "      <td>M</td>\n",
       "      <td>final</td>\n",
       "    </tr>\n",
       "    <tr>\n",
       "      <th>148</th>\n",
       "      <td>MWH</td>\n",
       "      <td>OTH</td>\n",
       "      <td>megawatthours</td>\n",
       "      <td>PR</td>\n",
       "      <td>BA</td>\n",
       "      <td>A</td>\n",
       "      <td>final</td>\n",
       "    </tr>\n",
       "    <tr>\n",
       "      <th>199</th>\n",
       "      <td>MWH</td>\n",
       "      <td>OTH</td>\n",
       "      <td>megawatthours</td>\n",
       "      <td>PR</td>\n",
       "      <td>BA</td>\n",
       "      <td>M</td>\n",
       "      <td>final</td>\n",
       "    </tr>\n",
       "    <tr>\n",
       "      <th>202</th>\n",
       "      <td>MWH</td>\n",
       "      <td>OTH</td>\n",
       "      <td>megawatthours</td>\n",
       "      <td>PR</td>\n",
       "      <td>BA</td>\n",
       "      <td>M</td>\n",
       "      <td>final</td>\n",
       "    </tr>\n",
       "    <tr>\n",
       "      <th>209</th>\n",
       "      <td>MWH</td>\n",
       "      <td>OTH</td>\n",
       "      <td>megawatthours</td>\n",
       "      <td>PR</td>\n",
       "      <td>BA</td>\n",
       "      <td>A</td>\n",
       "      <td>final</td>\n",
       "    </tr>\n",
       "    <tr>\n",
       "      <th>258</th>\n",
       "      <td>MWH</td>\n",
       "      <td>OTH</td>\n",
       "      <td>megawatthours</td>\n",
       "      <td>PR</td>\n",
       "      <td>BA</td>\n",
       "      <td>M</td>\n",
       "      <td>final</td>\n",
       "    </tr>\n",
       "    <tr>\n",
       "      <th>261</th>\n",
       "      <td>MWH</td>\n",
       "      <td>OTH</td>\n",
       "      <td>megawatthours</td>\n",
       "      <td>PR</td>\n",
       "      <td>BA</td>\n",
       "      <td>M</td>\n",
       "      <td>final</td>\n",
       "    </tr>\n",
       "    <tr>\n",
       "      <th>268</th>\n",
       "      <td>MWH</td>\n",
       "      <td>OTH</td>\n",
       "      <td>megawatthours</td>\n",
       "      <td>PR</td>\n",
       "      <td>BA</td>\n",
       "      <td>A</td>\n",
       "      <td>final</td>\n",
       "    </tr>\n",
       "    <tr>\n",
       "      <th>309</th>\n",
       "      <td>MWH</td>\n",
       "      <td>OTH</td>\n",
       "      <td>megawatthours</td>\n",
       "      <td>PR</td>\n",
       "      <td>BA</td>\n",
       "      <td>A</td>\n",
       "      <td>final</td>\n",
       "    </tr>\n",
       "    <tr>\n",
       "      <th>325</th>\n",
       "      <td>MWH</td>\n",
       "      <td>OTH</td>\n",
       "      <td>megawatthours</td>\n",
       "      <td>PR</td>\n",
       "      <td>BA</td>\n",
       "      <td>M</td>\n",
       "      <td>final</td>\n",
       "    </tr>\n",
       "    <tr>\n",
       "      <th>328</th>\n",
       "      <td>MWH</td>\n",
       "      <td>OTH</td>\n",
       "      <td>megawatthours</td>\n",
       "      <td>PR</td>\n",
       "      <td>BA</td>\n",
       "      <td>M</td>\n",
       "      <td>final</td>\n",
       "    </tr>\n",
       "    <tr>\n",
       "      <th>379</th>\n",
       "      <td>MWH</td>\n",
       "      <td>OTH</td>\n",
       "      <td>megawatthours</td>\n",
       "      <td>PR</td>\n",
       "      <td>BA</td>\n",
       "      <td>AM</td>\n",
       "      <td>final</td>\n",
       "    </tr>\n",
       "    <tr>\n",
       "      <th>392</th>\n",
       "      <td>MWH</td>\n",
       "      <td>OTH</td>\n",
       "      <td>megawatthours</td>\n",
       "      <td>PR</td>\n",
       "      <td>BA</td>\n",
       "      <td>NaN</td>\n",
       "      <td>final</td>\n",
       "    </tr>\n",
       "    <tr>\n",
       "      <th>394</th>\n",
       "      <td>MWH</td>\n",
       "      <td>OTH</td>\n",
       "      <td>megawatthours</td>\n",
       "      <td>PR</td>\n",
       "      <td>BA</td>\n",
       "      <td>NaN</td>\n",
       "      <td>final</td>\n",
       "    </tr>\n",
       "    <tr>\n",
       "      <th>425</th>\n",
       "      <td>MWH</td>\n",
       "      <td>OTH</td>\n",
       "      <td>megawatthours</td>\n",
       "      <td>PR</td>\n",
       "      <td>BA</td>\n",
       "      <td>NaN</td>\n",
       "      <td>incremental_ytd</td>\n",
       "    </tr>\n",
       "    <tr>\n",
       "      <th>427</th>\n",
       "      <td>MWH</td>\n",
       "      <td>OTH</td>\n",
       "      <td>megawatthours</td>\n",
       "      <td>PR</td>\n",
       "      <td>BA</td>\n",
       "      <td>NaN</td>\n",
       "      <td>incremental_ytd</td>\n",
       "    </tr>\n",
       "  </tbody>\n",
       "</table>\n",
       "</div>"
      ],
      "text/plain": [
       "    energy_source_code fuel_type_code_agg      fuel_unit plant_state  \\\n",
       "5                  MWH                OTH  megawatthours          PR   \n",
       "7                  MWH                OTH  megawatthours          PR   \n",
       "40                 MWH                OTH  megawatthours          PR   \n",
       "42                 MWH                OTH  megawatthours          PR   \n",
       "83                 MWH                OTH  megawatthours          PR   \n",
       "86                 MWH                OTH  megawatthours          PR   \n",
       "93                 MWH                OTH  megawatthours          PR   \n",
       "138                MWH                OTH  megawatthours          PR   \n",
       "141                MWH                OTH  megawatthours          PR   \n",
       "148                MWH                OTH  megawatthours          PR   \n",
       "199                MWH                OTH  megawatthours          PR   \n",
       "202                MWH                OTH  megawatthours          PR   \n",
       "209                MWH                OTH  megawatthours          PR   \n",
       "258                MWH                OTH  megawatthours          PR   \n",
       "261                MWH                OTH  megawatthours          PR   \n",
       "268                MWH                OTH  megawatthours          PR   \n",
       "309                MWH                OTH  megawatthours          PR   \n",
       "325                MWH                OTH  megawatthours          PR   \n",
       "328                MWH                OTH  megawatthours          PR   \n",
       "379                MWH                OTH  megawatthours          PR   \n",
       "392                MWH                OTH  megawatthours          PR   \n",
       "394                MWH                OTH  megawatthours          PR   \n",
       "425                MWH                OTH  megawatthours          PR   \n",
       "427                MWH                OTH  megawatthours          PR   \n",
       "\n",
       "    prime_mover_code reporting_frequency_code    data_maturity  \n",
       "5                 BA                      NaN            final  \n",
       "7                 BA                      NaN            final  \n",
       "40                BA                        M            final  \n",
       "42                BA                        M            final  \n",
       "83                BA                        M            final  \n",
       "86                BA                        M            final  \n",
       "93                BA                        A            final  \n",
       "138               BA                        M            final  \n",
       "141               BA                        M            final  \n",
       "148               BA                        A            final  \n",
       "199               BA                        M            final  \n",
       "202               BA                        M            final  \n",
       "209               BA                        A            final  \n",
       "258               BA                        M            final  \n",
       "261               BA                        M            final  \n",
       "268               BA                        A            final  \n",
       "309               BA                        A            final  \n",
       "325               BA                        M            final  \n",
       "328               BA                        M            final  \n",
       "379               BA                       AM            final  \n",
       "392               BA                      NaN            final  \n",
       "394               BA                      NaN            final  \n",
       "425               BA                      NaN  incremental_ytd  \n",
       "427               BA                      NaN  incremental_ytd  "
      ]
     },
     "execution_count": 36,
     "metadata": {},
     "output_type": "execute_result"
    }
   ],
   "source": [
    "# what we expect: 3 fuel units\n",
    "# what we found: 4 units; \"megawatthours\"\n",
    "# explain why: look at just the megawatthours rows\n",
    "pr_gen_fuel_annual.loc[\n",
    "    pr_gen_fuel_annual.fuel_unit==\"megawatthours\",\n",
    "    category_columns\n",
    "]"
   ]
  },
  {
   "cell_type": "code",
   "execution_count": 37,
   "id": "573b71db-2baf-43a9-82b1-9176e42f27e4",
   "metadata": {},
   "outputs": [
    {
     "data": {
      "text/plain": [
       "['energy_source_code',\n",
       " 'fuel_type_code_agg',\n",
       " 'fuel_unit',\n",
       " 'plant_state',\n",
       " 'prime_mover_code',\n",
       " 'reporting_frequency_code',\n",
       " 'data_maturity']"
      ]
     },
     "execution_count": 37,
     "metadata": {},
     "output_type": "execute_result"
    }
   ],
   "source": [
    "category_columns"
   ]
  },
  {
   "cell_type": "markdown",
   "id": "c472ec89-65d2-47bd-a1ff-f007fa4a4f56",
   "metadata": {
    "jp-MarkdownHeadingCollapsed": true
   },
   "source": [
    "## Solution"
   ]
  },
  {
   "cell_type": "code",
   "execution_count": null,
   "id": "90a900d9-9fa4-48d5-b8ed-3cf9562c3285",
   "metadata": {},
   "outputs": [],
   "source": [
    "pr_gen_fuel_annual[category_columns].describe()"
   ]
  },
  {
   "cell_type": "code",
   "execution_count": null,
   "id": "76469fbf-dcd8-431a-a478-6fb648ec436e",
   "metadata": {},
   "outputs": [],
   "source": [
    "pr_gen_fuel_annual.fuel_unit.value_counts()"
   ]
  },
  {
   "cell_type": "code",
   "execution_count": null,
   "id": "5c30929e-0a8b-4472-b2df-697fc487d7c7",
   "metadata": {},
   "outputs": [],
   "source": [
    "pr_gen_fuel_annual.loc[pr_gen_fuel_annual.fuel_unit == \"megawatthours\", category_columns].describe()"
   ]
  },
  {
   "cell_type": "code",
   "execution_count": null,
   "id": "af861e87-c971-49fb-a1a8-304a6350139c",
   "metadata": {},
   "outputs": [],
   "source": [
    "measurement_columns = [\n",
    "    \"elec_fuel_consumption_mmbtu\", \"electric_fuel_consumption_quantity\",\n",
    "    \"total_fuel_consumption_mmbtu\", \"total_fuel_consumption_quantity\",\n",
    "    \"total_net_generation_mwh\"\n",
    "]"
   ]
  },
  {
   "cell_type": "code",
   "execution_count": null,
   "id": "06ec81cb-b9a5-4edb-afb2-5960c4a824c5",
   "metadata": {},
   "outputs": [],
   "source": [
    "for gr, df in pr_gen_fuel_annual.groupby(\"energy_source_code\"):\n",
    "    axs = df.hist(column=elec_fuel_consumption_cols, sharey=True)\n",
    "    axs[-1][-1].legend([gr])"
   ]
  },
  {
   "cell_type": "code",
   "execution_count": null,
   "id": "62949100-99e8-498e-b894-be1aa2b68ce4",
   "metadata": {},
   "outputs": [],
   "source": [
    "(\n",
    "    pr_gen_fuel_monthly.set_index(\"energy_source_code\").loc[renewables].reset_index()\n",
    "    .groupby([\"energy_source_code\", \"date\"]).sum()\n",
    "    .net_generation_mwh.unstack(\"energy_source_code\").plot()\n",
    ")"
   ]
  },
  {
   "cell_type": "code",
   "execution_count": null,
   "id": "9f1e3166-f827-4554-a269-b2a3291db733",
   "metadata": {},
   "outputs": [],
   "source": [
    "(\n",
    "    renewables_monthly\n",
    "    .plot.scatter(x=\"net_generation_mwh\", y=\"fuel_consumed_mmbtu\", s=0.2, c=\"date\", colormap=\"rainbow\")\n",
    ")"
   ]
  },
  {
   "cell_type": "code",
   "execution_count": null,
   "id": "458f7973-cc53-47e0-8e89-9af53d4ed529",
   "metadata": {},
   "outputs": [],
   "source": []
  }
 ],
 "metadata": {
  "kernelspec": {
   "display_name": "Python 3 (ipykernel)",
   "language": "python",
   "name": "python3"
  },
  "language_info": {
   "codemirror_mode": {
    "name": "ipython",
    "version": 3
   },
   "file_extension": ".py",
   "mimetype": "text/x-python",
   "name": "python",
   "nbconvert_exporter": "python",
   "pygments_lexer": "ipython3",
   "version": "3.12.7"
  }
 },
 "nbformat": 4,
 "nbformat_minor": 5
}
