{
 "cells": [
  {
   "cell_type": "markdown",
   "id": "ff3f79c7-2b73-4c6f-8a37-5d15b058c53f",
   "metadata": {},
   "source": [
    "# Visual Data Exploration\n",
    "\n"
   ]
  },
  {
   "cell_type": "code",
   "execution_count": 1,
   "id": "3559bfc4-a8c2-43bd-9a74-2d2de0890469",
   "metadata": {},
   "outputs": [],
   "source": [
    "raw_file = \"../data/raw_eia923__puerto_rico_generation_fuel.parquet\"\n",
    "annual_file = \"../data/pr_gen_fuel_annual.parquet\"\n",
    "monthly_file = \"../data/pr_gen_fuel_monthly.parquet\""
   ]
  }
 ],
 "metadata": {
  "kernelspec": {
   "display_name": "Python 3 (ipykernel)",
   "language": "python",
   "name": "python3"
  },
  "language_info": {
   "codemirror_mode": {
    "name": "ipython",
    "version": 3
   },
   "file_extension": ".py",
   "mimetype": "text/x-python",
   "name": "python",
   "nbconvert_exporter": "python",
   "pygments_lexer": "ipython3",
   "version": "3.12.7"
  }
 },
 "nbformat": 4,
 "nbformat_minor": 5
}
