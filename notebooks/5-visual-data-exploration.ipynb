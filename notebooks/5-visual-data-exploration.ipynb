{
 "cells": [
  {
   "cell_type": "markdown",
   "id": "0d7094b2-af26-45ff-b22b-e44aa9e43801",
   "metadata": {},
   "source": [
    "# Annual data"
   ]
  },
  {
   "cell_type": "markdown",
   "id": "d5820d33-2a90-4179-962c-eac22c82ec11",
   "metadata": {},
   "source": [
    "# Primary Keys and Index data"
   ]
  },
  {
   "cell_type": "markdown",
   "id": "58aa5e16-19f5-4f40-97c1-feeafe39e83e",
   "metadata": {},
   "source": [
    "# Strings and Categorical data"
   ]
  },
  {
   "cell_type": "markdown",
   "id": "ff28d3a5-03cb-4abd-a780-79dc0d6fc22f",
   "metadata": {},
   "source": [
    "# Numeric data"
   ]
  },
  {
   "cell_type": "markdown",
   "id": "362f0014-1f5f-438c-bf29-420c6f6a98b1",
   "metadata": {},
   "source": [
    "# Numeric summaries: `.describe()` and histograms"
   ]
  },
  {
   "cell_type": "markdown",
   "id": "06eef872-5b76-4028-a6c8-8c7c7894a13a",
   "metadata": {},
   "source": [
    "# Monthly data"
   ]
  },
  {
   "cell_type": "markdown",
   "id": "4e56d92f-0515-49b6-8fa2-37bf81836df0",
   "metadata": {},
   "source": [
    "# Looking closer at renewables"
   ]
  },
  {
   "cell_type": "markdown",
   "id": "c8ebfade-c656-4d9b-b57f-65697531729e",
   "metadata": {},
   "source": [
    "# Scatter plots and the use of color"
   ]
  },
  {
   "cell_type": "markdown",
   "id": "c8cd2365-6664-4f29-8395-002e67ecace3",
   "metadata": {},
   "source": [
    "# Same data, different angle"
   ]
  },
  {
   "cell_type": "markdown",
   "id": "dce5c567-a527-4d57-9ef3-48a91e4ec237",
   "metadata": {},
   "source": [
    "# Challenge: Complete the primary key"
   ]
  },
  {
   "cell_type": "code",
   "execution_count": null,
   "id": "a99d69c2-71af-44ed-9192-4c283f15686e",
   "metadata": {},
   "outputs": [],
   "source": []
  },
  {
   "cell_type": "markdown",
   "id": "0f7b5d57-0e56-4454-a441-fb2153343d58",
   "metadata": {
    "jp-MarkdownHeadingCollapsed": true
   },
   "source": [
    "## Solution"
   ]
  },
  {
   "cell_type": "code",
   "execution_count": null,
   "id": "52d243fc-0b30-425f-a5ff-6c4a1e09dc99",
   "metadata": {},
   "outputs": [],
   "source": [
    "primary_key_columns = [\n",
    "    'plant_id_eia', 'plant_name_eia', 'report_year', 'prime_mover_code', 'energy_source_code'\n",
    "]\n",
    "pk_sizes = pr_gen_fuel_annual.groupby(primary_key_columns).size()\n",
    "pk_sizes.loc[pk_sizes>1]"
   ]
  },
  {
   "cell_type": "markdown",
   "id": "836e41ff-24c0-4933-9431-12977fb41e5f",
   "metadata": {},
   "source": [
    "# Challenge: Check if `reporting_frequency_code` and `fuel_unit` have the expected contents"
   ]
  },
  {
   "cell_type": "code",
   "execution_count": null,
   "id": "a006d251-346d-42c7-9ca0-0a3ceb505b3c",
   "metadata": {},
   "outputs": [],
   "source": []
  },
  {
   "cell_type": "markdown",
   "id": "c472ec89-65d2-47bd-a1ff-f007fa4a4f56",
   "metadata": {
    "jp-MarkdownHeadingCollapsed": true
   },
   "source": [
    "## Solution"
   ]
  },
  {
   "cell_type": "code",
   "execution_count": null,
   "id": "90a900d9-9fa4-48d5-b8ed-3cf9562c3285",
   "metadata": {},
   "outputs": [],
   "source": [
    "pr_gen_fuel_annual[category_columns].describe()"
   ]
  },
  {
   "cell_type": "code",
   "execution_count": null,
   "id": "76469fbf-dcd8-431a-a478-6fb648ec436e",
   "metadata": {},
   "outputs": [],
   "source": [
    "pr_gen_fuel_annual.fuel_unit.value_counts()"
   ]
  },
  {
   "cell_type": "code",
   "execution_count": null,
   "id": "5c30929e-0a8b-4472-b2df-697fc487d7c7",
   "metadata": {},
   "outputs": [],
   "source": [
    "pr_gen_fuel_annual.loc[pr_gen_fuel_annual.fuel_unit == \"megawatthours\", category_columns].describe()"
   ]
  },
  {
   "cell_type": "markdown",
   "id": "b933e167-3613-441b-87fa-49e8b7bded16",
   "metadata": {},
   "source": [
    "# Challenge: Determine which columns contain numeric measurement data"
   ]
  },
  {
   "cell_type": "code",
   "execution_count": null,
   "id": "78668bbd-1bec-4207-97b3-1479eab92bd1",
   "metadata": {},
   "outputs": [],
   "source": []
  },
  {
   "cell_type": "markdown",
   "id": "a19babbe-815e-4ed6-bb13-63a5d9185d81",
   "metadata": {
    "jp-MarkdownHeadingCollapsed": true
   },
   "source": [
    "## Solution"
   ]
  },
  {
   "cell_type": "code",
   "execution_count": null,
   "id": "af861e87-c971-49fb-a1a8-304a6350139c",
   "metadata": {},
   "outputs": [],
   "source": [
    "measurement_columns = [\n",
    "    \"elec_fuel_consumption_mmbtu\", \"electric_fuel_consumption_quantity\",\n",
    "    \"total_fuel_consumption_mmbtu\", \"total_fuel_consumption_quantity\",\n",
    "    \"total_net_generation_mwh\"\n",
    "]"
   ]
  },
  {
   "cell_type": "markdown",
   "id": "14590754-eba1-4f35-a1c3-97c3dfb4e84d",
   "metadata": {},
   "source": [
    "# Challenge: Find a categorical column that explains the extra zeros in `quantity`"
   ]
  },
  {
   "cell_type": "code",
   "execution_count": null,
   "id": "0284bca8-4ba5-40c0-a6c6-eb6882533a1c",
   "metadata": {},
   "outputs": [],
   "source": []
  },
  {
   "cell_type": "markdown",
   "id": "55543f4d-d384-4b48-ae45-3315fa0ea459",
   "metadata": {
    "jp-MarkdownHeadingCollapsed": true
   },
   "source": [
    "## Solution"
   ]
  },
  {
   "cell_type": "code",
   "execution_count": null,
   "id": "06ec81cb-b9a5-4edb-afb2-5960c4a824c5",
   "metadata": {},
   "outputs": [],
   "source": [
    "for gr, df in pr_gen_fuel_annual.groupby(\"energy_source_code\"):\n",
    "    axs = df.hist(column=elec_fuel_consumption_cols, sharey=True)\n",
    "    axs[-1][-1].legend([gr])"
   ]
  },
  {
   "cell_type": "markdown",
   "id": "1b4b7aad-3f06-4da2-a54c-3e96883fb56f",
   "metadata": {},
   "source": [
    "# Challenge: List what you notice about fuel consumed mmbtus vs energy source"
   ]
  },
  {
   "cell_type": "markdown",
   "id": "ec1a33ff-557e-4bd5-a567-25921b25489f",
   "metadata": {},
   "source": [
    "# Challenge: Adapt the fuel consumed mmbtu plot to show net generation instead"
   ]
  },
  {
   "cell_type": "code",
   "execution_count": null,
   "id": "ecef25a1-9afa-49b9-8c39-0a8d100913e6",
   "metadata": {},
   "outputs": [],
   "source": []
  },
  {
   "cell_type": "markdown",
   "id": "9e45fea6-ee8d-46ca-ac07-52da27a78112",
   "metadata": {
    "jp-MarkdownHeadingCollapsed": true
   },
   "source": [
    "## Solution"
   ]
  },
  {
   "cell_type": "code",
   "execution_count": null,
   "id": "62949100-99e8-498e-b894-be1aa2b68ce4",
   "metadata": {},
   "outputs": [],
   "source": [
    "(\n",
    "    pr_gen_fuel_monthly.set_index(\"energy_source_code\").loc[renewables].reset_index()\n",
    "    .groupby([\"energy_source_code\", \"date\"]).sum()\n",
    "    .net_generation_mwh.unstack(\"energy_source_code\").plot()\n",
    ")"
   ]
  },
  {
   "cell_type": "markdown",
   "id": "5b0e068b-cdca-4efc-871f-63899cf03b63",
   "metadata": {},
   "source": [
    "# Challenge: Find a variable that clearly separates the lines by color"
   ]
  },
  {
   "cell_type": "code",
   "execution_count": null,
   "id": "289580fb-78b4-407e-bdab-fd75a2ef256d",
   "metadata": {},
   "outputs": [],
   "source": []
  },
  {
   "cell_type": "markdown",
   "id": "9a11db62-30f8-4d60-a6a3-04dfb9ca4ae9",
   "metadata": {
    "jp-MarkdownHeadingCollapsed": true
   },
   "source": [
    "## Solution"
   ]
  },
  {
   "cell_type": "code",
   "execution_count": null,
   "id": "9f1e3166-f827-4554-a269-b2a3291db733",
   "metadata": {},
   "outputs": [],
   "source": [
    "(\n",
    "    renewables_monthly\n",
    "    .plot.scatter(x=\"net_generation_mwh\", y=\"fuel_consumed_mmbtu\", s=0.2, c=\"date\", colormap=\"rainbow\")\n",
    ")"
   ]
  }
 ],
 "metadata": {
  "kernelspec": {
   "display_name": "Python 3 (ipykernel)",
   "language": "python",
   "name": "python3"
  },
  "language_info": {
   "codemirror_mode": {
    "name": "ipython",
    "version": 3
   },
   "file_extension": ".py",
   "mimetype": "text/x-python",
   "name": "python",
   "nbconvert_exporter": "python",
   "pygments_lexer": "ipython3",
   "version": "3.12.11"
  }
 },
 "nbformat": 4,
 "nbformat_minor": 5
}
