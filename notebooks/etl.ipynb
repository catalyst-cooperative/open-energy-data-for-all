{
 "cells": [
  {
   "cell_type": "code",
   "execution_count": null,
   "id": "d7b1c0f4",
   "metadata": {},
   "outputs": [],
   "source": [
    "import pandas as pd\n",
    "import numpy as np\n",
    "\n",
    "pr_gen_fuel = pd.read_parquet(\"../data/raw_eia923__puerto_rico_generation_fuel.parquet\")\n",
    "pr_plant_frame = pd.read_parquet(\"../data/raw_eia923__puerto_rico_plant_frame.parquet\")"
   ]
  },
  {
   "cell_type": "code",
   "execution_count": null,
   "id": "bcade08e-bc87-456d-b5fc-49ff209e7543",
   "metadata": {},
   "outputs": [],
   "source": [
    "# Handle EIA null values\n",
    "pr_gen_fuel = pr_gen_fuel.replace(to_replace = \".\", value = pd.NA)\n",
    "\n",
    "# Silence some warnings about deprecated Pandas behavior\n",
    "pd.set_option(\"future.no_silent_downcasting\", True)\n",
    "\n",
    "# Convert data types (mmbtu/units to numeric, booleans, categories)\n",
    "pr_gen_fuel = pr_gen_fuel.convert_dtypes()\n",
    "for colname in pr_gen_fuel.columns:\n",
    "    if (\n",
    "        \"fuel_consumption\" in colname\n",
    "        or \"fuel_consumed\" in colname\n",
    "        or \"net_generation\" in colname\n",
    "        or \"fuel_mmbtu_per_unit\" in colname\n",
    "    ):\n",
    "        pr_gen_fuel[colname] = pr_gen_fuel[colname].astype(\"float64\")\n",
    "\n",
    "\n",
    "pr_gen_fuel[\"associated_combined_heat_power\"] = (\n",
    "    pr_gen_fuel[\"associated_combined_heat_power\"]\n",
    "    .astype(\"object\") # necessary for the types to work for the .replace() call\n",
    "    .replace({\"Y\": True, \"N\": False})\n",
    "    .astype(\"boolean\")\n",
    ")\n",
    "pr_gen_fuel = pr_gen_fuel.astype({\n",
    "    \"energy_source_code\": \"category\",\n",
    "    \"fuel_type_code_agg\": \"category\",\n",
    "    \"prime_mover_code\": \"category\",\n",
    "    \"reporting_frequency_code\": \"category\",\n",
    "    \"data_maturity\": \"category\",\n",
    "    \"plant_state\": \"category\"\n",
    "})"
   ]
  },
  {
   "cell_type": "code",
   "execution_count": null,
   "id": "0650c49a-84e1-4f2d-94bb-faf8b1619977",
   "metadata": {},
   "outputs": [],
   "source": [
    "# Handle EIA null values\n",
    "pr_plant_frame = pr_plant_frame.replace(to_replace = \".\", value = pd.NA)\n",
    "\n",
    "# Convert data types (mmbtu/units to numeric, categories, booleans)\n",
    "pr_plant_frame = pr_plant_frame.convert_dtypes()\n",
    "pr_plant_frame[\"associated_combined_heat_power\"] = (\n",
    "    pr_plant_frame[\"associated_combined_heat_power\"]\n",
    "    .astype(\"object\") # necessary for the types to work for the .replace() call\n",
    "    .replace({\"Y\": True, \"N\": False})\n",
    "    .astype(\"boolean\")\n",
    ")\n",
    "pr_plant_frame = pr_plant_frame.astype({\n",
    "    \"reporting_frequency_code\": \"category\",\n",
    "    \"data_maturity\": \"category\",\n",
    "    \"plant_state\": \"category\"\n",
    "})\n",
    "\n",
    "pr_plant_frame.info()"
   ]
  },
  {
   "cell_type": "code",
   "execution_count": null,
   "id": "8d3efd96-5649-4e43-b758-0b3668088b8c",
   "metadata": {},
   "outputs": [],
   "source": [
    "#### monthly pivoting\n",
    "\n",
    "# set up shared index\n",
    "index_cols = [\"plant_id_eia\", \"plant_name_eia\", \"report_year\", \"prime_mover_code\", \"energy_source_code\", \"fuel_unit\"]\n"
   ]
  },
  {
   "cell_type": "code",
   "execution_count": null,
   "id": "d9475f71-5db3-41d6-a414-32ebd9210d1d",
   "metadata": {},
   "outputs": [],
   "source": [
    "# Pivot fuel_consumed_for_electricity MMBTU columns\n",
    "\n",
    "fuel_elec_mmbtu_cols = index_cols + [col for col in pr_gen_fuel.columns if \"fuel_consumed_for_electricity_mmbtu\" in col]\n",
    "fuel_elec_mmbtu = pr_gen_fuel.loc[:, fuel_elec_mmbtu_cols]\n",
    "\n",
    "## Melt the fuel_consumed columns\n",
    "fuel_elec_mmbtu_melt = fuel_elec_mmbtu.melt(\n",
    "    id_vars=index_cols,\n",
    "    var_name=\"month\",\n",
    "    value_name=\"fuel_consumed_for_electricity_mmbtu\"\n",
    ")\n",
    "fuel_elec_mmbtu_melt[\"month\"] = fuel_elec_mmbtu_melt[\"month\"].str.replace(\"fuel_consumed_for_electricity_mmbtu_\", \"\")\n",
    "fuel_elec_mmbtu_melt = fuel_elec_mmbtu_melt.set_index(index_cols + [\"month\"])\n",
    "fuel_elec_mmbtu_melt"
   ]
  },
  {
   "cell_type": "code",
   "execution_count": null,
   "id": "50733f07-fac8-4088-92b4-3bb3151aed62",
   "metadata": {},
   "outputs": [],
   "source": [
    "# Pivot fuel_consumed_for_electricity UNITS columns\n",
    "fuel_elec_units_cols = index_cols + [col for col in pr_gen_fuel.columns if \"fuel_consumed_for_electricity_units\" in col]\n",
    "fuel_elec_units = pr_gen_fuel.loc[:, fuel_elec_units_cols]\n",
    "\n",
    "## Melt the fuel_consumed columns\n",
    "fuel_elec_units_melt = fuel_elec_units.melt(\n",
    "    id_vars=index_cols,\n",
    "    var_name=\"month\",\n",
    "    value_name=\"fuel_consumed_for_electricity_units\"\n",
    ")\n",
    "fuel_elec_units_melt[\"month\"] = fuel_elec_units_melt[\"month\"].str.replace(\"fuel_consumed_for_electricity_units_\", \"\")\n",
    "fuel_elec_units_melt = fuel_elec_units_melt.set_index(index_cols + [\"month\"])\n",
    "fuel_elec_units_melt"
   ]
  },
  {
   "cell_type": "code",
   "execution_count": null,
   "id": "4dda9d55-0ddb-4ca6-b4ac-f67d6c68cd52",
   "metadata": {},
   "outputs": [],
   "source": [
    "# Pivot fuel_consumed MMBTU columns\n",
    "\n",
    "fuel_mmbtu_cols = index_cols + [col for col in pr_gen_fuel.columns if \"fuel_consumed_mmbtu\" in col]\n",
    "fuel_mmbtu = pr_gen_fuel.loc[:, fuel_mmbtu_cols]\n",
    "\n",
    "## Melt the fuel_consumed columns\n",
    "fuel_mmbtu_melt = fuel_mmbtu.melt(\n",
    "    id_vars=index_cols,\n",
    "    var_name=\"month\",\n",
    "    value_name=\"fuel_consumed_mmbtu\"\n",
    ")\n",
    "fuel_mmbtu_melt[\"month\"] = fuel_mmbtu_melt[\"month\"].str.replace(\"fuel_consumed_mmbtu_\", \"\")\n",
    "fuel_mmbtu_melt = fuel_mmbtu_melt.set_index(index_cols + [\"month\"])\n",
    "fuel_mmbtu_melt"
   ]
  },
  {
   "cell_type": "code",
   "execution_count": null,
   "id": "7df8a486-a29f-4846-bcd0-4b2e3cd0b8c9",
   "metadata": {},
   "outputs": [],
   "source": [
    "# Pivot fuel_consumed UNITS columns\n",
    "\n",
    "fuel_units_cols = index_cols + [col for col in pr_gen_fuel.columns if \"fuel_consumed_units\" in col]\n",
    "fuel_units = pr_gen_fuel.loc[:, fuel_units_cols]\n",
    "\n",
    "## Melt the fuel_consumed columns\n",
    "fuel_units_melt = fuel_units.melt(\n",
    "    id_vars=index_cols,\n",
    "    var_name=\"month\",\n",
    "    value_name=\"fuel_consumed_units\"\n",
    ")\n",
    "fuel_units_melt[\"month\"] = fuel_units_melt[\"month\"].str.replace(\"fuel_consumed_units_\", \"\")\n",
    "fuel_units_melt = fuel_units_melt.set_index(index_cols + [\"month\"])\n",
    "fuel_units_melt"
   ]
  },
  {
   "cell_type": "code",
   "execution_count": null,
   "id": "ced34d69-7846-49ac-8861-8630375f79bc",
   "metadata": {},
   "outputs": [],
   "source": [
    "# Pivot net_generation columns\n",
    "\n",
    "net_gen_cols = index_cols + [col for col in pr_gen_fuel.columns if col.startswith(\"net_generation_mwh\")]\n",
    "net_gen = pr_gen_fuel.loc[:, net_gen_cols]\n",
    "\n",
    "## Melt the fuel_consumed columns\n",
    "net_gen_melt = net_gen.melt(\n",
    "    id_vars=index_cols,\n",
    "    var_name=\"month\",\n",
    "    value_name=\"net_generation_mwh\"\n",
    ")\n",
    "net_gen_melt[\"month\"] = net_gen_melt[\"month\"].str.replace(\"net_generation_mwh_\", \"\")\n",
    "net_gen_melt = net_gen_melt.set_index(index_cols + [\"month\"])\n",
    "net_gen_melt"
   ]
  },
  {
   "cell_type": "code",
   "execution_count": null,
   "id": "0345c6c6-23f7-470b-adcb-9de35f6da15e",
   "metadata": {},
   "outputs": [],
   "source": [
    "pr_gen_fuel_melt = pd.concat(\n",
    "    [fuel_elec_mmbtu_melt, fuel_elec_units_melt, fuel_mmbtu_melt, fuel_units_melt, net_gen_melt],\n",
    "    axis=\"columns\",\n",
    ").reset_index()\n",
    "pr_gen_fuel_melt"
   ]
  },
  {
   "cell_type": "code",
   "execution_count": null,
   "id": "857a59e8-c0c9-4c82-a734-e85141c9d61a",
   "metadata": {},
   "outputs": [],
   "source": [
    "## Create date from month and year\n",
    "pr_gen_fuel_melt[\"date\"] = pd.to_datetime(\n",
    "    pr_gen_fuel_melt[\"month\"] + pr_gen_fuel_melt[\"report_year\"].astype(str),\n",
    "    format=\"%B%Y\",\n",
    ")\n",
    "## Drop old date columns\n",
    "pr_gen_fuel_clean = pr_gen_fuel_melt.drop(columns = [\"report_year\", \"month\"])"
   ]
  },
  {
   "cell_type": "code",
   "execution_count": null,
   "id": "f118d3af",
   "metadata": {},
   "outputs": [],
   "source": [
    "## Drop a bad plant\n",
    "pr_gen_fuel_final = pr_gen_fuel_clean.loc[\n",
    "    ~((pr_gen_fuel_clean.plant_id_eia == 62410) \n",
    "    & (pr_gen_fuel_clean.date.dt.year == 2020)\n",
    "    & (pr_gen_fuel_clean.fuel_consumed_for_electricity_mmbtu.isnull()))\n",
    "]\n",
    "\n",
    "# drop after 2025-03-01 (for now)\n",
    "pr_gen_fuel_final = pr_gen_fuel_final.loc[pr_gen_fuel_clean.date < pd.Timestamp(\"2025-03-01\")]\n"
   ]
  },
  {
   "cell_type": "code",
   "execution_count": null,
   "id": "aed53fba-364b-4271-9b79-06c5afb4f787",
   "metadata": {},
   "outputs": [],
   "source": [
    "## some investigation into NA values\n",
    "clean_index_cols = [\"date\", \"energy_source_code\", \"prime_mover_code\", \"plant_id_eia\", \"plant_name_eia\", \"fuel_unit\"]\n",
    "pp = pr_gen_fuel_clean.set_index(clean_index_cols).isna().all(axis=1).reset_index().rename(columns={0: \"isna\"}).loc[:, [\"date\", \"plant_name_eia\", \"isna\"]]\n",
    "\n",
    "pp.plot.scatter(x=\"date\", y=\"plant_name_eia\", c=pp[\"isna\"].astype(int), colormap=\"viridis\", s=10, alpha=0.2, figsize=(10, 20))\n",
    "\n",
    "# it turns out that after 2025-03-01 there's a pile of NAs, and many plants have multiple generators, some of which report as all-NA while their sibling generators are reporting non-NA values\n",
    "# though Aguirre Plant and Hewlett Packard Puerto Rico seem to have actual stretches of all-NA time that might be wroth dropping."
   ]
  },
  {
   "cell_type": "code",
   "execution_count": null,
   "id": "285af062-d0ce-4272-97c3-27395d0dd0c2",
   "metadata": {},
   "outputs": [],
   "source": [
    "### make a list of all the monthly columns\n",
    "import calendar\n",
    "monthly_columns = []\n",
    "for col in pr_gen_fuel.columns:\n",
    "    for month in calendar.Month:\n",
    "        if col.endswith(month.name.lower()):\n",
    "            monthly_columns.append(col)"
   ]
  },
  {
   "cell_type": "code",
   "execution_count": null,
   "id": "68191984-d479-4521-8627-bd38aace6ea5",
   "metadata": {
    "scrolled": true
   },
   "outputs": [],
   "source": [
    "### annual table\n",
    "pr_gen_fuel_annual = pr_gen_fuel.drop(columns=monthly_columns)"
   ]
  },
  {
   "cell_type": "code",
   "execution_count": null,
   "id": "bbba715f-f172-418e-8e4a-9f178e983350",
   "metadata": {},
   "outputs": [],
   "source": [
    "### output\n",
    "pr_gen_fuel_final.to_parquet(\"../data/pr_gen_fuel_monthly.parquet\")\n",
    "pr_gen_fuel_annual.to_parquet(\"../data/pr_gen_fuel_annual.parquet\")\n",
    "pr_plant_frame.to_parquet(\"../data/pr_plant_frame.parquet\")"
   ]
  }
 ],
 "metadata": {
  "kernelspec": {
   "display_name": "Python 3 (ipykernel)",
   "language": "python",
   "name": "python3"
  },
  "language_info": {
   "codemirror_mode": {
    "name": "ipython",
    "version": 3
   },
   "file_extension": ".py",
   "mimetype": "text/x-python",
   "name": "python",
   "nbconvert_exporter": "python",
   "pygments_lexer": "ipython3",
   "version": "3.12.11"
  }
 },
 "nbformat": 4,
 "nbformat_minor": 5
}
