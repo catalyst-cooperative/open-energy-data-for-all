{
 "cells": [
  {
   "cell_type": "code",
   "execution_count": null,
   "id": "d7b1c0f4",
   "metadata": {},
   "outputs": [],
   "source": [
    "import pandas as pd\n",
    "import numpy as np\n",
    "\n",
    "# TODO: read from parquet files instead?\n",
    "pr_gen_fuel = pd.read_pickle(\"../data/raw_eia923__puerto_rico_generation_fuel\")\n",
    "pr_plant_frame = pd.read_pickle(\"../data/raw_eia923__puerto_rico_plant_frame\")"
   ]
  },
  {
   "cell_type": "code",
   "execution_count": null,
   "id": "bcade08e-bc87-456d-b5fc-49ff209e7543",
   "metadata": {},
   "outputs": [],
   "source": [
    "# Handle EIA null values\n",
    "pr_gen_fuel = pr_gen_fuel.replace(to_replace = \".\", value = pd.NA)\n",
    "\n",
    "# Convert data types (mmbtu/units to numeric, categories, booleans)\n",
    "pr_gen_fuel = pr_gen_fuel.convert_dtypes()\n",
    "pr_gen_fuel[\"associated_combined_heat_power\"] = pr_gen_fuel[\"associated_combined_heat_power\"] == \"Y\"\n",
    "pr_gen_fuel = pr_gen_fuel.astype({\n",
    "    \"energy_source_code\": \"category\",\n",
    "    \"fuel_type_code_agg\": \"category\",\n",
    "    \"prime_mover_code\": \"category\",\n",
    "    \"reporting_frequency_code\": \"category\",\n",
    "    \"data_maturity\": \"category\",\n",
    "    \"plant_state\": \"category\"\n",
    "})"
   ]
  },
  {
   "cell_type": "code",
   "execution_count": 26,
   "id": "8d3efd96-5649-4e43-b758-0b3668088b8c",
   "metadata": {},
   "outputs": [],
   "source": [
    "#### monthly pivoting\n",
    "\n",
    "# set up shared indices\n",
    "raw_index_cols = [\"plant_id_eia\", \"plant_name_eia\", \"report_year\", \"prime_mover_code\", \"energy_source_code\", \"fuel_unit\"]\n",
    "clean_index_cols = [\"date\", \"energy_source_code\", \"prime_mover_code\", \"plant_id_eia\", \"plant_name_eia\", \"fuel_unit\"]"
   ]
  },
  {
   "cell_type": "code",
   "execution_count": null,
   "id": "d9475f71-5db3-41d6-a414-32ebd9210d1d",
   "metadata": {},
   "outputs": [],
   "source": [
    "# Pivot fuel_consumed_for_electricity MMBTU columns\n",
    "\n",
    "fuel_elec_mmbtu_cols = raw_index_cols + [col for col in pr_gen_fuel.columns if \"fuel_consumed_for_electricity_mmbtu\" in col]\n",
    "fuel_elec_mmbtu = pr_gen_fuel.loc[:, fuel_elec_mmbtu_cols]\n",
    "\n",
    "## Melt the fuel_consumed columns\n",
    "fuel_elec_mmbtu_melt = fuel_elec_mmbtu.melt(\n",
    "    id_vars=raw_index_cols,\n",
    "    var_name=\"month\",\n",
    "    value_name=\"fuel_consumed_for_electricity_mmbtu\"\n",
    ")\n",
    "## Split the month from the variable\n",
    "fuel_elec_mmbtu_melt[\"month\"] = fuel_elec_mmbtu_melt[\"month\"].str.replace(\"fuel_consumed_for_electricity_mmbtu_\", \"\")\n",
    "## Create date from month and year\n",
    "fuel_elec_mmbtu_melt[\"date\"] = pd.to_datetime(\n",
    "    fuel_elec_mmbtu_melt[\"month\"] + fuel_elec_mmbtu_melt[\"report_year\"].astype(str),\n",
    "    format=\"%B%Y\",\n",
    ")\n",
    "## Drop old date columns\n",
    "fuel_elec_mmbtu_clean = fuel_elec_mmbtu_melt.drop(columns = [\"report_year\", \"month\"]).set_index(clean_index_cols)\n",
    "fuel_elec_mmbtu_clean"
   ]
  },
  {
   "cell_type": "code",
   "execution_count": null,
   "id": "50733f07-fac8-4088-92b4-3bb3151aed62",
   "metadata": {},
   "outputs": [],
   "source": [
    "# Pivot fuel_consumed_for_electricity UNITS columns\n",
    "fuel_elec_units_cols = raw_index_cols + [col for col in pr_gen_fuel.columns if \"fuel_consumed_for_electricity_units\" in col]\n",
    "fuel_elec_units = pr_gen_fuel.loc[:, fuel_elec_units_cols]\n",
    "\n",
    "## Melt the fuel_consumed columns\n",
    "fuel_elec_units_melt = fuel_elec_units.melt(\n",
    "    id_vars=raw_index_cols,\n",
    "    var_name=\"month\",\n",
    "    value_name=\"fuel_consumed_for_electricity_units\"\n",
    ")\n",
    "## Split the month from the variable\n",
    "fuel_elec_units_melt[\"month\"] = fuel_elec_units_melt[\"month\"].str.replace(\"fuel_consumed_for_electricity_units_\", \"\")\n",
    "## Create date from month and year\n",
    "fuel_elec_units_melt[\"date\"] = pd.to_datetime(\n",
    "    fuel_elec_units_melt[\"month\"] + fuel_elec_units_melt[\"report_year\"].astype(str),\n",
    "    format=\"%B%Y\",\n",
    ")\n",
    "## Drop old date columns\n",
    "fuel_elec_units_clean = fuel_elec_units_melt.drop(columns = [\"report_year\", \"month\"]).set_index(clean_index_cols)\n",
    "fuel_elec_units_clean"
   ]
  },
  {
   "cell_type": "code",
   "execution_count": null,
   "id": "4dda9d55-0ddb-4ca6-b4ac-f67d6c68cd52",
   "metadata": {},
   "outputs": [],
   "source": [
    "# Pivot fuel_consumed MMBTU columns\n",
    "\n",
    "fuel_mmbtu_cols = raw_index_cols + [col for col in pr_gen_fuel.columns if \"fuel_consumed_mmbtu\" in col]\n",
    "fuel_mmbtu = pr_gen_fuel.loc[:, fuel_mmbtu_cols]\n",
    "\n",
    "## Melt the fuel_consumed columns\n",
    "fuel_mmbtu_melt = fuel_mmbtu.melt(\n",
    "    id_vars=raw_index_cols,\n",
    "    var_name=\"month\",\n",
    "    value_name=\"fuel_consumed_mmbtu\"\n",
    ")\n",
    "## Split the month from the variable\n",
    "fuel_mmbtu_melt[\"month\"] = fuel_mmbtu_melt[\"month\"].str.replace(\"fuel_consumed_mmbtu_\", \"\")\n",
    "## Create date from month and year\n",
    "fuel_mmbtu_melt[\"date\"] = pd.to_datetime(\n",
    "    fuel_mmbtu_melt[\"month\"] + fuel_mmbtu_melt[\"report_year\"].astype(str),\n",
    "    format=\"%B%Y\",\n",
    ")\n",
    "## Drop old date columns\n",
    "fuel_mmbtu_clean = fuel_mmbtu_melt.drop(columns = [\"report_year\", \"month\"]).set_index(clean_index_cols)\n",
    "fuel_mmbtu_clean"
   ]
  },
  {
   "cell_type": "code",
   "execution_count": null,
   "id": "7df8a486-a29f-4846-bcd0-4b2e3cd0b8c9",
   "metadata": {},
   "outputs": [],
   "source": [
    "# Pivot fuel_consumed UNITS columns\n",
    "\n",
    "fuel_units_cols = raw_index_cols + [col for col in pr_gen_fuel.columns if \"fuel_consumed_units\" in col]\n",
    "fuel_units = pr_gen_fuel.loc[:, fuel_units_cols]\n",
    "\n",
    "## Melt the fuel_consumed columns\n",
    "fuel_units_melt = fuel_units.melt(\n",
    "    id_vars=raw_index_cols,\n",
    "    var_name=\"month\",\n",
    "    value_name=\"fuel_consumed_units\"\n",
    ")\n",
    "## Split the month from the variable\n",
    "fuel_units_melt[\"month\"] = fuel_units_melt[\"month\"].str.replace(\"fuel_consumed_units_\", \"\")\n",
    "## Create date from month and year\n",
    "fuel_units_melt[\"date\"] = pd.to_datetime(\n",
    "    fuel_units_melt[\"month\"] + fuel_units_melt[\"report_year\"].astype(str),\n",
    "    format=\"%B%Y\",\n",
    ")\n",
    "## Drop old date columns\n",
    "fuel_units_clean = fuel_units_melt.drop(columns = [\"report_year\", \"month\"]).set_index(clean_index_cols)\n",
    "fuel_units_clean"
   ]
  },
  {
   "cell_type": "code",
   "execution_count": null,
   "id": "ced34d69-7846-49ac-8861-8630375f79bc",
   "metadata": {},
   "outputs": [],
   "source": [
    "# Pivot net_generation columns\n",
    "\n",
    "net_gen_cols = raw_index_cols + [col for col in pr_gen_fuel.columns if col.startswith(\"net_generation_mwh\")]\n",
    "net_gen = pr_gen_fuel.loc[:, net_gen_cols]\n",
    "\n",
    "## Melt the fuel_consumed columns\n",
    "net_gen_melt = net_gen.melt(\n",
    "    id_vars=raw_index_cols,\n",
    "    var_name=\"month\",\n",
    "    value_name=\"net_generation_mwh\"\n",
    ")\n",
    "## Split the month from the variable\n",
    "net_gen_melt[\"month\"] = net_gen_melt[\"month\"].str.replace(\"net_generation_mwh_\", \"\")\n",
    "## Create date from month and year\n",
    "net_gen_melt[\"date\"] = pd.to_datetime(\n",
    "    net_gen_melt[\"month\"] + net_gen_melt[\"report_year\"].astype(str),\n",
    "    format=\"%B%Y\",\n",
    ")\n",
    "## Drop old date columns\n",
    "net_gen_clean = net_gen_melt.drop(columns = [\"report_year\", \"month\"]).set_index(clean_index_cols)\n",
    "net_gen_clean"
   ]
  },
  {
   "cell_type": "code",
   "execution_count": null,
   "id": "0345c6c6-23f7-470b-adcb-9de35f6da15e",
   "metadata": {},
   "outputs": [],
   "source": [
    "pr_gen_fuel_clean = pd.concat(\n",
    "    [fuel_elec_mmbtu_clean, fuel_elec_units_clean, fuel_mmbtu_clean, fuel_units_clean, net_gen_clean],\n",
    "    axis=\"columns\",\n",
    ").reset_index()\n",
    "pr_gen_fuel_clean"
   ]
  },
  {
   "cell_type": "code",
   "execution_count": null,
   "id": "f118d3af",
   "metadata": {},
   "outputs": [],
   "source": [
    "## Drop a bad plant\n",
    "pr_gen_fuel_final = pr_gen_fuel_clean.loc[\n",
    "    ~((pr_gen_fuel_clean.plant_id_eia == 62410) \n",
    "    & (pr_gen_fuel_clean.date.dt.year == 2020)\n",
    "    & (pr_gen_fuel_clean.fuel_consumed_for_electricity_mmbtu.isnull()))\n",
    "]\n",
    "\n",
    "# drop after 2025-03-01 (for now)\n",
    "pr_gen_fuel_final = pr_gen_fuel_final.loc[pr_gen_fuel_clean.date < pd.Timestamp(\"2025-03-01\")]\n"
   ]
  },
  {
   "cell_type": "code",
   "execution_count": null,
   "id": "aed53fba-364b-4271-9b79-06c5afb4f787",
   "metadata": {},
   "outputs": [],
   "source": [
    "## some investigation into NA values\n",
    "pp = pr_gen_fuel_final.set_index(clean_index_cols).isna().all(axis=1).reset_index().rename(columns={0: \"isna\"}).loc[:, [\"date\", \"plant_name_eia\", \"isna\"]]\n",
    "\n",
    "pp.plot.scatter(x=\"date\", y=\"plant_name_eia\", c=pp[\"isna\"].astype(int), colormap=\"viridis\", s=10, alpha=0.2, figsize=(10, 20))\n",
    "\n",
    "# it turns out that after 2025-03-01 there's a pile of NAs, and many plants have multiple generators, some of which report as all-NA while their sibling generators are reporting non-NA values\n",
    "# though Aguirre Plant and Hewlett Packard Puerto Rico seem to have actual stretches of all-NA time that might be wroth dropping."
   ]
  },
  {
   "cell_type": "code",
   "execution_count": 27,
   "id": "68191984-d479-4521-8627-bd38aace6ea5",
   "metadata": {
    "scrolled": true
   },
   "outputs": [
    {
     "ename": "KeyError",
     "evalue": "\"['total_fuel_consumption_for_electricity_mmbtu'] not in index\"",
     "output_type": "error",
     "traceback": [
      "\u001b[31m---------------------------------------------------------------------------\u001b[39m",
      "\u001b[31mKeyError\u001b[39m                                  Traceback (most recent call last)",
      "\u001b[36mCell\u001b[39m\u001b[36m \u001b[39m\u001b[32mIn[27]\u001b[39m\u001b[32m, line 3\u001b[39m\n\u001b[32m      1\u001b[39m \u001b[38;5;66;03m# TODO: annual table\u001b[39;00m\n\u001b[32m----> \u001b[39m\u001b[32m3\u001b[39m \u001b[43mpr_gen_fuel\u001b[49m\u001b[43m.\u001b[49m\u001b[43mloc\u001b[49m\u001b[43m[\u001b[49m\u001b[43m:\u001b[49m\u001b[43m,\u001b[49m\u001b[43m \u001b[49m\u001b[43mraw_index_cols\u001b[49m\u001b[43m \u001b[49m\u001b[43m+\u001b[49m\u001b[43m \u001b[49m\u001b[43m[\u001b[49m\u001b[33;43m\"\u001b[39;49m\u001b[33;43mtotal_fuel_consumption_for_electricity_mmbtu\u001b[39;49m\u001b[33;43m\"\u001b[39;49m\u001b[43m]\u001b[49m\u001b[43m]\u001b[49m\n",
      "\u001b[36mFile \u001b[39m\u001b[32m~/work/open-energy-data-for-all/.venv/lib/python3.12/site-packages/pandas/core/indexing.py:1184\u001b[39m, in \u001b[36m_LocationIndexer.__getitem__\u001b[39m\u001b[34m(self, key)\u001b[39m\n\u001b[32m   1182\u001b[39m     \u001b[38;5;28;01mif\u001b[39;00m \u001b[38;5;28mself\u001b[39m._is_scalar_access(key):\n\u001b[32m   1183\u001b[39m         \u001b[38;5;28;01mreturn\u001b[39;00m \u001b[38;5;28mself\u001b[39m.obj._get_value(*key, takeable=\u001b[38;5;28mself\u001b[39m._takeable)\n\u001b[32m-> \u001b[39m\u001b[32m1184\u001b[39m     \u001b[38;5;28;01mreturn\u001b[39;00m \u001b[38;5;28;43mself\u001b[39;49m\u001b[43m.\u001b[49m\u001b[43m_getitem_tuple\u001b[49m\u001b[43m(\u001b[49m\u001b[43mkey\u001b[49m\u001b[43m)\u001b[49m\n\u001b[32m   1185\u001b[39m \u001b[38;5;28;01melse\u001b[39;00m:\n\u001b[32m   1186\u001b[39m     \u001b[38;5;66;03m# we by definition only have the 0th axis\u001b[39;00m\n\u001b[32m   1187\u001b[39m     axis = \u001b[38;5;28mself\u001b[39m.axis \u001b[38;5;129;01mor\u001b[39;00m \u001b[32m0\u001b[39m\n",
      "\u001b[36mFile \u001b[39m\u001b[32m~/work/open-energy-data-for-all/.venv/lib/python3.12/site-packages/pandas/core/indexing.py:1377\u001b[39m, in \u001b[36m_LocIndexer._getitem_tuple\u001b[39m\u001b[34m(self, tup)\u001b[39m\n\u001b[32m   1374\u001b[39m \u001b[38;5;28;01mif\u001b[39;00m \u001b[38;5;28mself\u001b[39m._multi_take_opportunity(tup):\n\u001b[32m   1375\u001b[39m     \u001b[38;5;28;01mreturn\u001b[39;00m \u001b[38;5;28mself\u001b[39m._multi_take(tup)\n\u001b[32m-> \u001b[39m\u001b[32m1377\u001b[39m \u001b[38;5;28;01mreturn\u001b[39;00m \u001b[38;5;28;43mself\u001b[39;49m\u001b[43m.\u001b[49m\u001b[43m_getitem_tuple_same_dim\u001b[49m\u001b[43m(\u001b[49m\u001b[43mtup\u001b[49m\u001b[43m)\u001b[49m\n",
      "\u001b[36mFile \u001b[39m\u001b[32m~/work/open-energy-data-for-all/.venv/lib/python3.12/site-packages/pandas/core/indexing.py:1020\u001b[39m, in \u001b[36m_LocationIndexer._getitem_tuple_same_dim\u001b[39m\u001b[34m(self, tup)\u001b[39m\n\u001b[32m   1017\u001b[39m \u001b[38;5;28;01mif\u001b[39;00m com.is_null_slice(key):\n\u001b[32m   1018\u001b[39m     \u001b[38;5;28;01mcontinue\u001b[39;00m\n\u001b[32m-> \u001b[39m\u001b[32m1020\u001b[39m retval = \u001b[38;5;28;43mgetattr\u001b[39;49m\u001b[43m(\u001b[49m\u001b[43mretval\u001b[49m\u001b[43m,\u001b[49m\u001b[43m \u001b[49m\u001b[38;5;28;43mself\u001b[39;49m\u001b[43m.\u001b[49m\u001b[43mname\u001b[49m\u001b[43m)\u001b[49m\u001b[43m.\u001b[49m\u001b[43m_getitem_axis\u001b[49m\u001b[43m(\u001b[49m\u001b[43mkey\u001b[49m\u001b[43m,\u001b[49m\u001b[43m \u001b[49m\u001b[43maxis\u001b[49m\u001b[43m=\u001b[49m\u001b[43mi\u001b[49m\u001b[43m)\u001b[49m\n\u001b[32m   1021\u001b[39m \u001b[38;5;66;03m# We should never have retval.ndim < self.ndim, as that should\u001b[39;00m\n\u001b[32m   1022\u001b[39m \u001b[38;5;66;03m#  be handled by the _getitem_lowerdim call above.\u001b[39;00m\n\u001b[32m   1023\u001b[39m \u001b[38;5;28;01massert\u001b[39;00m retval.ndim == \u001b[38;5;28mself\u001b[39m.ndim\n",
      "\u001b[36mFile \u001b[39m\u001b[32m~/work/open-energy-data-for-all/.venv/lib/python3.12/site-packages/pandas/core/indexing.py:1420\u001b[39m, in \u001b[36m_LocIndexer._getitem_axis\u001b[39m\u001b[34m(self, key, axis)\u001b[39m\n\u001b[32m   1417\u001b[39m     \u001b[38;5;28;01mif\u001b[39;00m \u001b[38;5;28mhasattr\u001b[39m(key, \u001b[33m\"\u001b[39m\u001b[33mndim\u001b[39m\u001b[33m\"\u001b[39m) \u001b[38;5;129;01mand\u001b[39;00m key.ndim > \u001b[32m1\u001b[39m:\n\u001b[32m   1418\u001b[39m         \u001b[38;5;28;01mraise\u001b[39;00m \u001b[38;5;167;01mValueError\u001b[39;00m(\u001b[33m\"\u001b[39m\u001b[33mCannot index with multidimensional key\u001b[39m\u001b[33m\"\u001b[39m)\n\u001b[32m-> \u001b[39m\u001b[32m1420\u001b[39m     \u001b[38;5;28;01mreturn\u001b[39;00m \u001b[38;5;28;43mself\u001b[39;49m\u001b[43m.\u001b[49m\u001b[43m_getitem_iterable\u001b[49m\u001b[43m(\u001b[49m\u001b[43mkey\u001b[49m\u001b[43m,\u001b[49m\u001b[43m \u001b[49m\u001b[43maxis\u001b[49m\u001b[43m=\u001b[49m\u001b[43maxis\u001b[49m\u001b[43m)\u001b[49m\n\u001b[32m   1422\u001b[39m \u001b[38;5;66;03m# nested tuple slicing\u001b[39;00m\n\u001b[32m   1423\u001b[39m \u001b[38;5;28;01mif\u001b[39;00m is_nested_tuple(key, labels):\n",
      "\u001b[36mFile \u001b[39m\u001b[32m~/work/open-energy-data-for-all/.venv/lib/python3.12/site-packages/pandas/core/indexing.py:1360\u001b[39m, in \u001b[36m_LocIndexer._getitem_iterable\u001b[39m\u001b[34m(self, key, axis)\u001b[39m\n\u001b[32m   1357\u001b[39m \u001b[38;5;28mself\u001b[39m._validate_key(key, axis)\n\u001b[32m   1359\u001b[39m \u001b[38;5;66;03m# A collection of keys\u001b[39;00m\n\u001b[32m-> \u001b[39m\u001b[32m1360\u001b[39m keyarr, indexer = \u001b[38;5;28;43mself\u001b[39;49m\u001b[43m.\u001b[49m\u001b[43m_get_listlike_indexer\u001b[49m\u001b[43m(\u001b[49m\u001b[43mkey\u001b[49m\u001b[43m,\u001b[49m\u001b[43m \u001b[49m\u001b[43maxis\u001b[49m\u001b[43m)\u001b[49m\n\u001b[32m   1361\u001b[39m \u001b[38;5;28;01mreturn\u001b[39;00m \u001b[38;5;28mself\u001b[39m.obj._reindex_with_indexers(\n\u001b[32m   1362\u001b[39m     {axis: [keyarr, indexer]}, copy=\u001b[38;5;28;01mTrue\u001b[39;00m, allow_dups=\u001b[38;5;28;01mTrue\u001b[39;00m\n\u001b[32m   1363\u001b[39m )\n",
      "\u001b[36mFile \u001b[39m\u001b[32m~/work/open-energy-data-for-all/.venv/lib/python3.12/site-packages/pandas/core/indexing.py:1558\u001b[39m, in \u001b[36m_LocIndexer._get_listlike_indexer\u001b[39m\u001b[34m(self, key, axis)\u001b[39m\n\u001b[32m   1555\u001b[39m ax = \u001b[38;5;28mself\u001b[39m.obj._get_axis(axis)\n\u001b[32m   1556\u001b[39m axis_name = \u001b[38;5;28mself\u001b[39m.obj._get_axis_name(axis)\n\u001b[32m-> \u001b[39m\u001b[32m1558\u001b[39m keyarr, indexer = \u001b[43max\u001b[49m\u001b[43m.\u001b[49m\u001b[43m_get_indexer_strict\u001b[49m\u001b[43m(\u001b[49m\u001b[43mkey\u001b[49m\u001b[43m,\u001b[49m\u001b[43m \u001b[49m\u001b[43maxis_name\u001b[49m\u001b[43m)\u001b[49m\n\u001b[32m   1560\u001b[39m \u001b[38;5;28;01mreturn\u001b[39;00m keyarr, indexer\n",
      "\u001b[36mFile \u001b[39m\u001b[32m~/work/open-energy-data-for-all/.venv/lib/python3.12/site-packages/pandas/core/indexes/base.py:6200\u001b[39m, in \u001b[36mIndex._get_indexer_strict\u001b[39m\u001b[34m(self, key, axis_name)\u001b[39m\n\u001b[32m   6197\u001b[39m \u001b[38;5;28;01melse\u001b[39;00m:\n\u001b[32m   6198\u001b[39m     keyarr, indexer, new_indexer = \u001b[38;5;28mself\u001b[39m._reindex_non_unique(keyarr)\n\u001b[32m-> \u001b[39m\u001b[32m6200\u001b[39m \u001b[38;5;28;43mself\u001b[39;49m\u001b[43m.\u001b[49m\u001b[43m_raise_if_missing\u001b[49m\u001b[43m(\u001b[49m\u001b[43mkeyarr\u001b[49m\u001b[43m,\u001b[49m\u001b[43m \u001b[49m\u001b[43mindexer\u001b[49m\u001b[43m,\u001b[49m\u001b[43m \u001b[49m\u001b[43maxis_name\u001b[49m\u001b[43m)\u001b[49m\n\u001b[32m   6202\u001b[39m keyarr = \u001b[38;5;28mself\u001b[39m.take(indexer)\n\u001b[32m   6203\u001b[39m \u001b[38;5;28;01mif\u001b[39;00m \u001b[38;5;28misinstance\u001b[39m(key, Index):\n\u001b[32m   6204\u001b[39m     \u001b[38;5;66;03m# GH 42790 - Preserve name from an Index\u001b[39;00m\n",
      "\u001b[36mFile \u001b[39m\u001b[32m~/work/open-energy-data-for-all/.venv/lib/python3.12/site-packages/pandas/core/indexes/base.py:6252\u001b[39m, in \u001b[36mIndex._raise_if_missing\u001b[39m\u001b[34m(self, key, indexer, axis_name)\u001b[39m\n\u001b[32m   6249\u001b[39m     \u001b[38;5;28;01mraise\u001b[39;00m \u001b[38;5;167;01mKeyError\u001b[39;00m(\u001b[33mf\u001b[39m\u001b[33m\"\u001b[39m\u001b[33mNone of [\u001b[39m\u001b[38;5;132;01m{\u001b[39;00mkey\u001b[38;5;132;01m}\u001b[39;00m\u001b[33m] are in the [\u001b[39m\u001b[38;5;132;01m{\u001b[39;00maxis_name\u001b[38;5;132;01m}\u001b[39;00m\u001b[33m]\u001b[39m\u001b[33m\"\u001b[39m)\n\u001b[32m   6251\u001b[39m not_found = \u001b[38;5;28mlist\u001b[39m(ensure_index(key)[missing_mask.nonzero()[\u001b[32m0\u001b[39m]].unique())\n\u001b[32m-> \u001b[39m\u001b[32m6252\u001b[39m \u001b[38;5;28;01mraise\u001b[39;00m \u001b[38;5;167;01mKeyError\u001b[39;00m(\u001b[33mf\u001b[39m\u001b[33m\"\u001b[39m\u001b[38;5;132;01m{\u001b[39;00mnot_found\u001b[38;5;132;01m}\u001b[39;00m\u001b[33m not in index\u001b[39m\u001b[33m\"\u001b[39m)\n",
      "\u001b[31mKeyError\u001b[39m: \"['total_fuel_consumption_for_electricity_mmbtu'] not in index\""
     ]
    }
   ],
   "source": [
    "# TODO: annual table\n",
    "\n",
    "pr_gen_fuel.loc[:, raw_index_cols + [\"total_fuel_consumption_for_electricity_mmbtu\"]]"
   ]
  },
  {
   "cell_type": "code",
   "execution_count": null,
   "id": "1af02510-bfdc-497e-b11f-83a86c94c9f2",
   "metadata": {},
   "outputs": [],
   "source": []
  }
 ],
 "metadata": {
  "kernelspec": {
   "display_name": "Python 3 (ipykernel)",
   "language": "python",
   "name": "python3"
  },
  "language_info": {
   "codemirror_mode": {
    "name": "ipython",
    "version": 3
   },
   "file_extension": ".py",
   "mimetype": "text/x-python",
   "name": "python",
   "nbconvert_exporter": "python",
   "pygments_lexer": "ipython3",
   "version": "3.12.10"
  }
 },
 "nbformat": 4,
 "nbformat_minor": 5
}
