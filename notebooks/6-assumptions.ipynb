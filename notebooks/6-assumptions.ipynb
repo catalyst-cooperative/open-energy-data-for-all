{
 "cells": [
  {
   "cell_type": "markdown",
   "id": "210ce69d-566b-4007-b0cf-04cc3f31e242",
   "metadata": {},
   "source": [
    "# Assumptions"
   ]
  },
  {
   "cell_type": "markdown",
   "id": "b388358c-3850-453f-95ab-b0c4f004fef5",
   "metadata": {},
   "source": [
    "## What is an assumption anyways?"
   ]
  },
  {
   "cell_type": "markdown",
   "id": "98bf41f9-b094-435a-994d-511eda208f06",
   "metadata": {},
   "source": [
    "### Challenge: identifying assumptions"
   ]
  },
  {
   "cell_type": "markdown",
   "id": "702a2395-e16d-4c13-b947-c44cdb4342c4",
   "metadata": {},
   "source": [
    "Take 5 minutes to list out as many assumptions as you can about the\n",
    "EIA 923 Puerto Rico data (`pr_gen_fuel_monthly.parquet`) in the [data directory](../data/).\n",
    "\n",
    "Please put them in the shared Google doc that your instructor prepared for you.\n",
    "This will serve as a foundation for future challenges in this lesson.\n",
    "\n",
    "The goal is to get past the obvious ones and start thinking of some un-obvious assumptions -\n",
    "no need to limit yourself to 'realistic' ones at this stage.\n",
    "\n",
    "Some prompts to get you started:\n",
    "\n",
    "* what problems have you run into in previous datasets?\n",
    "* if you were here for the data exploration episode,\n",
    "  what are some things you learned about the data then?\n",
    "* what are other people writing, does that trigger new thoughts about what to add?\n",
    "\n",
    "When we return, we'll talk about which things worked. "
   ]
  },
  {
   "cell_type": "markdown",
   "id": "e1b79cc6-7016-46b6-abe8-c5a18f617a1f",
   "metadata": {},
   "source": [
    "## How to test your assumptions"
   ]
  },
  {
   "cell_type": "code",
   "execution_count": null,
   "id": "b448fb21-5a40-4979-af41-d8775c1ce478",
   "metadata": {},
   "outputs": [],
   "source": [
    "import pandas as pd"
   ]
  },
  {
   "cell_type": "markdown",
   "id": "268a80e6-3d14-4f67-b939-c5397a8c3333",
   "metadata": {},
   "source": [
    "### Example: testing assumptions"
   ]
  },
  {
   "cell_type": "code",
   "execution_count": null,
   "id": "425e1412-d663-40ab-8411-c9c148b470cf",
   "metadata": {},
   "outputs": [],
   "source": [
    "assert 1 == 1"
   ]
  },
  {
   "cell_type": "code",
   "execution_count": null,
   "id": "a20495f7-0578-4cb1-898a-e541fc41592f",
   "metadata": {},
   "outputs": [],
   "source": [
    "assert 1 == 2"
   ]
  },
  {
   "cell_type": "code",
   "execution_count": null,
   "id": "61beaad1-3901-4e4d-8bdd-5c03579c386e",
   "metadata": {},
   "outputs": [],
   "source": [
    "assert 1 == 2, \"Expected 1 to be equal to 2.\""
   ]
  },
  {
   "cell_type": "code",
   "execution_count": null,
   "id": "b9651ac6-4d77-40fa-80d8-ac4a86793d35",
   "metadata": {},
   "outputs": [],
   "source": [
    "monthly_gen_fuel = pd.read_parquet(\"../data/pr_gen_fuel_monthly.parquet\")"
   ]
  },
  {
   "cell_type": "code",
   "execution_count": null,
   "id": "12051290-d117-4be2-afae-c009d0a9db64",
   "metadata": {},
   "outputs": [],
   "source": [
    "fuel_consumed_mmbtu = monthly_gen_fuel[\"fuel_consumed_mmbtu\"]"
   ]
  },
  {
   "cell_type": "code",
   "execution_count": null,
   "id": "5a4368e4-1053-4619-8163-6b3964f705f6",
   "metadata": {},
   "outputs": [],
   "source": [
    "assert (fuel_consumed_mmbtu >= 0).all(), \"The reported fuel consumption in MMBTU should be non-negative\""
   ]
  },
  {
   "cell_type": "code",
   "execution_count": null,
   "id": "0be4a745-6f31-4fc4-986b-ef31009526b9",
   "metadata": {},
   "outputs": [],
   "source": [
    "fuel_consumed_mmbtu[~(fuel_consumed_mmbtu >= 0)]"
   ]
  },
  {
   "cell_type": "code",
   "execution_count": null,
   "id": "d5f8322c-90ec-422c-8a6f-20c069319f08",
   "metadata": {},
   "outputs": [],
   "source": [
    "assert (fuel_consumed_mmbtu.dropna() >= 0).all(), \"If fuel consumption in MMBtu is reported at all, it should be non-negative.\""
   ]
  },
  {
   "cell_type": "markdown",
   "id": "f1d10910-3efc-4efc-8671-6a294028e03e",
   "metadata": {},
   "source": [
    "### Challenge: prioritizing assumptions"
   ]
  },
  {
   "cell_type": "markdown",
   "id": "3e2b3a57-b2d1-4a44-9aef-f8b5efd28917",
   "metadata": {},
   "source": [
    "Now it's time to try out that prioritization framework!\n",
    "\n",
    "Let's start by looking at the list of assumptions we came up with.\n",
    "\n",
    "Take a few minutes to put a `+` emoji reaction next to 3-5 assumptions that feel important to test.\n",
    "\n",
    "We'll then discuss a few assumptions with many `+` reacts and how they fit into the framework above."
   ]
  },
  {
   "cell_type": "markdown",
   "id": "0b81f017-a0d1-44e5-8287-8e243f28dba8",
   "metadata": {},
   "source": [
    "### Challenge: testing an assumption"
   ]
  },
  {
   "cell_type": "markdown",
   "id": "137ae8d9-357e-4bad-9040-7074588d2b31",
   "metadata": {},
   "source": [
    "Now that we have our list of high-priority testing targets,\n",
    "we can go ahead and write some tests for them!\n",
    "\n",
    "Pick one of the assumptions identified as high-priority in the last challenge,\n",
    "and write some code to test whether it's true or false.\n",
    "\n",
    "When we finish,\n",
    "we'll talk about challenges we ran into in writing these tests."
   ]
  },
  {
   "cell_type": "code",
   "execution_count": null,
   "id": "04f84f81-d119-4c0f-83fd-9ec84d4733ce",
   "metadata": {},
   "outputs": [],
   "source": [
    "# we still have monthly_gen_fuel available from the example before - so use that for your assertions here!"
   ]
  }
 ],
 "metadata": {
  "kernelspec": {
   "display_name": "Python 3 (ipykernel)",
   "language": "python",
   "name": "python3"
  },
  "language_info": {
   "codemirror_mode": {
    "name": "ipython",
    "version": 3
   },
   "file_extension": ".py",
   "mimetype": "text/x-python",
   "name": "python",
   "nbconvert_exporter": "python",
   "pygments_lexer": "ipython3",
   "version": "3.12.10"
  }
 },
 "nbformat": 4,
 "nbformat_minor": 5
}
