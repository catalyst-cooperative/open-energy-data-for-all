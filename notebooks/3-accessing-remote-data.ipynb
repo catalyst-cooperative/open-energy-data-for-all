{
 "cells": [
  {
   "cell_type": "markdown",
   "metadata": {},
   "source": [
    "# Reading remote data files"
   ]
  },
  {
   "cell_type": "code",
   "execution_count": null,
   "metadata": {
    "jupyter": {
     "source_hidden": true
    }
   },
   "outputs": [],
   "source": [
    "help(pd.read_parquet)"
   ]
  },
  {
   "cell_type": "code",
   "execution_count": null,
   "metadata": {
    "jupyter": {
     "source_hidden": true
    }
   },
   "outputs": [],
   "source": [
    "df = pd.read_parquet(parquet_example_url)\n",
    "\n",
    "df.report_date.max()"
   ]
  },
  {
   "cell_type": "markdown",
   "metadata": {},
   "source": [
    "## Using `requests`"
   ]
  },
  {
   "cell_type": "markdown",
   "metadata": {},
   "source": [
    "### Setup"
   ]
  },
  {
   "cell_type": "code",
   "execution_count": null,
   "metadata": {
    "jupyter": {
     "source_hidden": true
    }
   },
   "outputs": [],
   "source": [
    "import requests\n",
    "\n",
    "json_example_url = \"https://raw.githubusercontent.com/catalyst-cooperative/open-energy-data-for-all/refs/heads/main/data/eia923_2022.json\"\n"
   ]
  },
  {
   "cell_type": "markdown",
   "metadata": {},
   "source": [
    "### Example: `requests.get`"
   ]
  },
  {
   "cell_type": "code",
   "execution_count": null,
   "metadata": {
    "jupyter": {
     "source_hidden": true
    }
   },
   "outputs": [],
   "source": [
    "response = requests.get(json_example_url)"
   ]
  },
  {
   "cell_type": "code",
   "execution_count": null,
   "metadata": {
    "jupyter": {
     "source_hidden": true
    }
   },
   "outputs": [],
   "source": [
    "help(response)"
   ]
  },
  {
   "cell_type": "code",
   "execution_count": null,
   "metadata": {
    "jupyter": {
     "source_hidden": true
    }
   },
   "outputs": [],
   "source": [
    "response.status_code"
   ]
  },
  {
   "cell_type": "code",
   "execution_count": null,
   "metadata": {
    "jupyter": {
     "source_hidden": true
    }
   },
   "outputs": [],
   "source": [
    "response.text"
   ]
  },
  {
   "cell_type": "code",
   "execution_count": null,
   "metadata": {
    "jupyter": {
     "source_hidden": true
    }
   },
   "outputs": [],
   "source": [
    "response.json()"
   ]
  },
  {
   "cell_type": "code",
   "execution_count": null,
   "metadata": {
    "jupyter": {
     "source_hidden": true
    }
   },
   "outputs": [],
   "source": []
  },
  {
   "cell_type": "markdown",
   "metadata": {},
   "source": [
    "### Challenge: reading remote files"
   ]
  },
  {
   "cell_type": "markdown",
   "metadata": {},
   "source": [
    "Can you take the raw XML data at the following URL and turn it into a string in python?"
   ]
  },
  {
   "cell_type": "code",
   "execution_count": null,
   "metadata": {},
   "outputs": [],
   "source": [
    "xml_url = \"https://raw.githubusercontent.com/catalyst-cooperative/open-energy-data-for-all/refs/heads/main/data/eia923_2022.xml\""
   ]
  },
  {
   "cell_type": "markdown",
   "metadata": {},
   "source": [
    "### Solution"
   ]
  },
  {
   "cell_type": "code",
   "execution_count": null,
   "metadata": {
    "jupyter": {
     "source_hidden": true
    }
   },
   "outputs": [],
   "source": []
  },
  {
   "cell_type": "markdown",
   "metadata": {
    "jp-MarkdownHeadingCollapsed": true
   },
   "source": [
    "### Discussion\n",
    "What are some advantages and disadvantages you can imagine for using remote data vs. saving the data to your hard drive (aka **local data**)?\n"
   ]
  },
  {
   "cell_type": "markdown",
   "metadata": {},
   "source": [
    "### Key points"
   ]
  },
  {
   "cell_type": "markdown",
   "metadata": {},
   "source": [
    "* `requests` is useful when you need to access remote data\n",
    "* `response.status_code` tells you if the request succeeded or why it failed.\n",
    "* `response.text` gives you the raw response, if you need to check that the data is formatted how you expect\n",
    "* `response.json()` will parse the response as JSON, which is handy"
   ]
  },
  {
   "cell_type": "markdown",
   "metadata": {},
   "source": [
    "## Intro to web APIs"
   ]
  },
  {
   "cell_type": "markdown",
   "metadata": {},
   "source": [
    "### APIS as fancy URLs"
   ]
  },
  {
   "cell_type": "markdown",
   "metadata": {},
   "source": [
    "Question: \"how much natural gas was consumed for electricity generation, totalled across all sectors, in Puerto Rico, for each year between 2020 and 2023?\""
   ]
  },
  {
   "cell_type": "code",
   "execution_count": null,
   "metadata": {
    "jupyter": {
     "source_hidden": true
    }
   },
   "outputs": [],
   "source": [
    "response = requests.get(\"https://api.eia.gov/v2/electricity/electric-power-operational-data/data?data[]=consumption-for-eg&facets[fueltypeid][]=NG&facets[sectorid][]=99&facets[location][]=PR&frequency=annual&start=2020&end=2023&api_key=3zjKYxV86AqtJWSRoAECir1wQFscVu6lxXnRVKG8\")\n",
    "\n",
    "response.json()"
   ]
  },
  {
   "cell_type": "markdown",
   "metadata": {},
   "source": [
    "### The structure of an API call"
   ]
  },
  {
   "cell_type": "code",
   "execution_count": null,
   "metadata": {
    "jupyter": {
     "source_hidden": true
    }
   },
   "outputs": [],
   "source": [
    "example_api_url = (\n",
    "    \"https://api.eia.gov\" # \"host\": the high-level name of the API you're accessing\n",
    "    \"/v2/electricity/electric-power-operational-data/data\" # \"route\": the specific aspect of the API you're accessing\n",
    "    \"?\" # separator that indicates \"everything after this will be a name-value pair\"\n",
    "    \"data[]=consumption-for-eg\" # name: data[], value: consumption-for-eg (\"consumption for electricity generation\")\n",
    "    \"&\" # separator between each pair\n",
    "    \"facets[fueltypeid][]=NG\" # only natural gas data\n",
    "    \"&\"\n",
    "    \"facets[sectorid][]=99\" # total across all sectors\n",
    "    \"&\"\n",
    "    \"facets[location][]=PR\" # in Puerto Rico\n",
    "    \"&\"\n",
    "    \"frequency=annual\" # per year\n",
    "    \"&\"\n",
    "    \"start=2020\" # starting in 2020\n",
    "    \"&\"\n",
    "    \"end=2023\" # ending in 2023\n",
    "    \"&\"\n",
    "    \"api_key=3zjKYxV86AqtJWSRoAECir1wQFscVu6lxXnRVKG8\" # a password to prove you have access to the API\n",
    ")\n",
    "\n",
    "requests.get(example_api_url).json()"
   ]
  },
  {
   "cell_type": "markdown",
   "metadata": {},
   "source": [
    "### Key points"
   ]
  },
  {
   "cell_type": "markdown",
   "metadata": {},
   "source": [
    "* web APIs can be thought of as bundles of fancy URLs\n",
    "* each web API is different, but if you can read the documentation and make requests to URLs, you can figure them out\n"
   ]
  },
  {
   "cell_type": "markdown",
   "metadata": {},
   "source": [
    "## Case study: EIA API\n",
    "\n",
    "[Link to main documentation page](https://www.eia.gov/opendata/documentation.php)"
   ]
  },
  {
   "cell_type": "code",
   "execution_count": null,
   "metadata": {
    "jupyter": {
     "source_hidden": true
    }
   },
   "outputs": [],
   "source": [
    "api_key = \"3zjKYxV86AqtJWSRoAECir1wQFscVu6lxXnRVKG8\""
   ]
  },
  {
   "cell_type": "markdown",
   "metadata": {},
   "source": [
    "### Example: trying out an API request"
   ]
  },
  {
   "cell_type": "code",
   "execution_count": null,
   "metadata": {
    "jupyter": {
     "source_hidden": true
    }
   },
   "outputs": [],
   "source": [
    "electricity_response = requests.get(f\"https://api.eia.gov/v2/electricity?api_key={api_key}\")\n",
    "electricity_response.json()"
   ]
  },
  {
   "cell_type": "markdown",
   "metadata": {},
   "source": [
    "### Challenge"
   ]
  },
  {
   "cell_type": "markdown",
   "metadata": {},
   "source": [
    "[In this section](https://www.eia.gov/opendata/documentation.php#Examiningametadatarequ), the docs say:\n",
    "\n",
    "> Discovering datasets should be much easier in APIv2 because the API now self-documents and organizes itself in a data hierarchy. Parent datasets have child datasets, which may have children of their own, and so on. To investigate what datasets are available, we request a parent node. The API will respond with the child datasets (routes) for the path we've requested.\n",
    "\n",
    "If we're looking for yearly data about fuel consumption at the plant level, what route should we request next? Please request it using `requests.get` below."
   ]
  },
  {
   "cell_type": "markdown",
   "metadata": {},
   "source": [
    "### Solution"
   ]
  },
  {
   "cell_type": "code",
   "execution_count": null,
   "metadata": {
    "jupyter": {
     "source_hidden": true
    }
   },
   "outputs": [],
   "source": []
  },
  {
   "cell_type": "markdown",
   "metadata": {},
   "source": [
    "### Example: getting data points"
   ]
  },
  {
   "cell_type": "markdown",
   "metadata": {},
   "source": [
    "[full documentation link](https://www.eia.gov/opendata/documentation.php#Facets)\n",
    "\n",
    "> In earlier examples, when we asked about the metadata, the API responded with these available data points [under the 'data' key]:\n",
    ">\n",
    "> [...]\n",
    ">\n",
    "> Remember, in addition to specifying the column in the data[] parameter, we must also specify /data as the last node in the route:\n",
    ">\n",
    "> `https://api.eia.gov/v2/electricity/retail-sales/data/?api_key=XXXXXX&data[]=price`"
   ]
  },
  {
   "cell_type": "code",
   "execution_count": null,
   "metadata": {
    "jupyter": {
     "source_hidden": true
    }
   },
   "outputs": [],
   "source": [
    "base_url = \"https://api.eia.gov/v2/electricity\"\n",
    "\n",
    "facility_fuels_metadata = requests.get(f\"{base_url}/facility-fuel?api_key={api_key}\")\n",
    "\n",
    "facility_fuels_metadata.json()[\"response\"][\"data\"]"
   ]
  },
  {
   "cell_type": "code",
   "execution_count": null,
   "metadata": {
    "jupyter": {
     "source_hidden": true
    },
    "scrolled": true
   },
   "outputs": [],
   "source": [
    "net_generation = requests.get(f\"{base_url}/facility-fuel/data?data[]=generation&api_key={api_key}\")\n",
    "\n",
    "net_generation.json()"
   ]
  },
  {
   "cell_type": "markdown",
   "metadata": {},
   "source": [
    "### Example: filtering the data"
   ]
  },
  {
   "cell_type": "markdown",
   "metadata": {},
   "source": [
    "We can read the documentation a bit more, and find [this section](https://www.eia.gov/opendata/documentation.php#Frequency) talking about:\n",
    "\n",
    "> Facets enable us to filter the data of concern to us, shrinking the size of the returns to a more manageable size.\n",
    ">\n",
    "> For example, our retail sales of electricity has the location and sector facets. If we query the route (without specifying /data), the API will tell us the facets that are relevant to that route."
   ]
  },
  {
   "cell_type": "code",
   "execution_count": null,
   "metadata": {
    "jupyter": {
     "source_hidden": true
    },
    "scrolled": true
   },
   "outputs": [],
   "source": [
    "facility_fuels_metadata.json()[\"response\"]"
   ]
  },
  {
   "cell_type": "code",
   "execution_count": null,
   "metadata": {},
   "outputs": [],
   "source": [
    "gas_only = requests.get(\n",
    "    f\"{base_url}/facility-fuel/data?data[]=generation&facets[fuel2002][]=gas&api_key={api_key}\"\n",
    ")"
   ]
  },
  {
   "cell_type": "code",
   "execution_count": null,
   "metadata": {},
   "outputs": [],
   "source": [
    "gas_only = requests.get(\n",
    "    f\"{base_url}/facility-fuel/data\",\n",
    "    params={\n",
    "        \"data[]\": \"generation\",\n",
    "        \"facets[fuel2002][]\": \"gas\",\n",
    "        \"api_key\": api_key\n",
    "    },\n",
    ")\n",
    "\n",
    "gas_only.json()"
   ]
  },
  {
   "cell_type": "code",
   "execution_count": null,
   "metadata": {
    "jupyter": {
     "source_hidden": true
    },
    "scrolled": true
   },
   "outputs": [],
   "source": [
    "fueltypes = requests.get(f\"{base_url}/facility-fuel/facet/fuel2002?api_key={api_key}\").json()\n",
    "\n",
    "fueltypes"
   ]
  },
  {
   "cell_type": "code",
   "execution_count": null,
   "metadata": {
    "jupyter": {
     "source_hidden": true
    }
   },
   "outputs": [],
   "source": [
    "gas_only = requests.get(\n",
    "    f\"{base_url}/facility-fuel/data\",\n",
    "    params={\n",
    "        \"data[]\": \"generation\",\n",
    "        \"facets[fuel2002][]\": \"NG\",\n",
    "        \"api_key\": api_key\n",
    "    },\n",
    ")\n",
    "\n",
    "gas_only.json()"
   ]
  },
  {
   "cell_type": "markdown",
   "metadata": {},
   "source": [
    "### Challenge: putting it all together"
   ]
  },
  {
   "cell_type": "markdown",
   "metadata": {
    "jp-MarkdownHeadingCollapsed": true
   },
   "source": [
    "So we've handled the fuel type - let's split into breakout groups to handle the other issues with the data:\n",
    "\n",
    "* we would like to filter this to Colorado data only\n",
    "* we would like to filter this to data for 2020, 2021, 2022, and 2023\n",
    "* we would like the data to be reported yearly, not monthly\n",
    "\n",
    "For each group, pick one of those bullets and follow these steps:\n",
    "\n",
    "1. Look at the metadata. See what parameters might help you get the right data back.\n",
    "2. Figure out what values you want to pass in.\n",
    "3. Try doing that and see if it fixed the problem.\n",
    "\n",
    "Once we're all done we can come back and make the full API request together."
   ]
  },
  {
   "cell_type": "markdown",
   "metadata": {},
   "source": [
    "### Solution"
   ]
  },
  {
   "cell_type": "code",
   "execution_count": null,
   "metadata": {
    "jupyter": {
     "source_hidden": true
    }
   },
   "outputs": [],
   "source": []
  },
  {
   "cell_type": "markdown",
   "metadata": {
    "jp-MarkdownHeadingCollapsed": true
   },
   "source": [
    "### Key points"
   ]
  },
  {
   "cell_type": "markdown",
   "metadata": {},
   "source": [
    "* Many functions in the `pandas.read_*` family can read tabular data from remote servers & cloud storage as if it was on your local computer\n",
    "* `requests` can get data that's not in the right shape for `pandas.read_*`; you'll have to do the translation from their response format into `pandas.DataFrame` yourself\n",
    "* web APIs are just collections of fancy URLs, which you can interact with via `requests`\n",
    "* to learn an API, you need to be able to read the documentation and experiment with the API to see how it responds."
   ]
  },
  {
   "cell_type": "code",
   "execution_count": null,
   "metadata": {
    "jupyter": {
     "source_hidden": true
    }
   },
   "outputs": [],
   "source": []
  }
 ],
 "metadata": {
  "kernelspec": {
   "display_name": "Python 3 (ipykernel)",
   "language": "python",
   "name": "python3"
  },
  "language_info": {
   "codemirror_mode": {
    "name": "ipython",
    "version": 3
   },
   "file_extension": ".py",
   "mimetype": "text/x-python",
   "name": "python",
   "nbconvert_exporter": "python",
   "pygments_lexer": "ipython3",
   "version": "3.12.10"
  }
 },
 "nbformat": 4,
 "nbformat_minor": 4
}
