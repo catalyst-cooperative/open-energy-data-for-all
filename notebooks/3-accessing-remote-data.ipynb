{
 "cells": [
  {
   "cell_type": "markdown",
   "metadata": {},
   "source": [
    "## Reading remote data into `pandas`"
   ]
  },
  {
   "cell_type": "markdown",
   "metadata": {},
   "source": [
    "### example: reading parquet"
   ]
  },
  {
   "cell_type": "markdown",
   "metadata": {},
   "source": [
    "### challenge"
   ]
  },
  {
   "cell_type": "markdown",
   "metadata": {},
   "source": [
    "Adapt your previous Excel-reading code to read the same Excel file directly from the Internet. GitHub has convenient links for all the files in the repo - you should be able to find the Excel file here: `https://github.com/catalyst-cooperative/open-energy-data-for-all/raw/refs/heads/main/data/eia923_2022.xlsx`\n",
    "\n",
    "Start with the code below."
   ]
  },
  {
   "cell_type": "markdown",
   "metadata": {},
   "source": [
    "### solution"
   ]
  },
  {
   "cell_type": "markdown",
   "metadata": {},
   "source": [
    "```python\n",
    "# modify this to read from the URL!\n",
    "pd.read_excel(\"data/eia923_2022.xlsx\", skiprows=5)\n",
    "```"
   ]
  },
  {
   "cell_type": "code",
   "execution_count": null,
   "metadata": {},
   "outputs": [],
   "source": []
  },
  {
   "cell_type": "markdown",
   "metadata": {},
   "source": [
    "### key point"
   ]
  },
  {
   "cell_type": "markdown",
   "metadata": {},
   "source": [
    "Most, but not all, of the `read_*` functions support URLs -  check the docs to make sure this will work!"
   ]
  },
  {
   "cell_type": "markdown",
   "metadata": {},
   "source": [
    "### Discussion\n",
    "What are some advantages and disadvantages you can imagine for using remote data vs. saving the data to your hard drive (aka **local data**)?\n"
   ]
  },
  {
   "cell_type": "markdown",
   "metadata": {},
   "source": [
    "## Using `requests` to download files"
   ]
  },
  {
   "cell_type": "markdown",
   "metadata": {},
   "source": [
    "### example: EIA 923 JSON"
   ]
  },
  {
   "cell_type": "markdown",
   "metadata": {},
   "source": [
    "### challenge"
   ]
  },
  {
   "cell_type": "markdown",
   "metadata": {},
   "source": [
    "Adapt the JSON reading code from last episode to use requests.get."
   ]
  },
  {
   "cell_type": "markdown",
   "metadata": {},
   "source": [
    "### solution"
   ]
  },
  {
   "cell_type": "markdown",
   "metadata": {},
   "source": [
    "```python\n",
    "import pandas as pd\n",
    "import json\n",
    "\n",
    "with open('data/eia923_2022.json') as file:\n",
    "    eia923_json = json.load(file)\n",
    "\n",
    "eia923_json_df = pd.DataFrame(eia923_json[\"response\"][\"data\"])\n",
    "```"
   ]
  },
  {
   "cell_type": "code",
   "execution_count": null,
   "metadata": {},
   "outputs": [],
   "source": []
  },
  {
   "cell_type": "markdown",
   "metadata": {},
   "source": [
    "### key points"
   ]
  },
  {
   "cell_type": "markdown",
   "metadata": {},
   "source": [
    "* `requests` is useful when you need to reformat the data before shoving it into `pandas`\n",
    "* `response.status_code` tells you if the request succeeded or why it failed.\n",
    "* `response.text` gives you the raw response, if you need to check that the data is formatted how you expect\n",
    "* `response.json()` will parse the response as JSON, which is handy"
   ]
  },
  {
   "cell_type": "markdown",
   "metadata": {},
   "source": [
    "## Web APIs: Fancy URLs"
   ]
  },
  {
   "cell_type": "code",
   "execution_count": null,
   "metadata": {},
   "outputs": [],
   "source": [
    "response = requests.get(\"https://api.eia.gov/v2/electricity/electric-power-operational-data/data?data[]=consumption-for-eg&facets[fueltypeid][]=NG&facets[sectorid][]=99&facets[location][]=CO&frequency=annual&start=2020&end=2023&api_key=3zjKYxV86AqtJWSRoAECir1wQFscVu6lxXnRVKG8\")\n",
    "\n",
    "response.json()"
   ]
  },
  {
   "cell_type": "code",
   "execution_count": null,
   "metadata": {},
   "outputs": [],
   "source": [
    "# https://api.eia.gov/v2/electricity/electric-power-operational-data/data?\n",
    "# data[]=consumption-for-eg&\n",
    "# facets[fueltypeid][]=NG&\n",
    "# facets[sectorid][]=99&facets[location][]=CO&frequency=annual&start=2020&end=2023&api_key=3zjKYxV86AqtJWSRoAECir1wQFscVu6lxXnRVKG8"
   ]
  },
  {
   "cell_type": "markdown",
   "metadata": {
    "jp-MarkdownHeadingCollapsed": true
   },
   "source": [
    "### challenge"
   ]
  },
  {
   "cell_type": "markdown",
   "metadata": {},
   "source": [
    "Make a request to `https://api.eia.gov/v2/electricity/electric-power-operational-data/data?data[]=consumption-for-eg&facets[fueltypeid][]=NG&facets[sectorid][]=99&facets[location][]=CO&frequency=annual&start=2020&end=2023&api_key=3zjKYxV86AqtJWSRoAECir1wQFscVu6lxXnRVKG8` with `requests.get`.\n",
    "\n",
    "Try removing the `end=2023` parameter from the URL. What happens?"
   ]
  },
  {
   "cell_type": "markdown",
   "metadata": {},
   "source": [
    "### solution"
   ]
  },
  {
   "cell_type": "code",
   "execution_count": null,
   "metadata": {},
   "outputs": [],
   "source": []
  },
  {
   "cell_type": "markdown",
   "metadata": {},
   "source": [
    "### key points"
   ]
  },
  {
   "cell_type": "markdown",
   "metadata": {},
   "source": [
    "* web APIs can be thought of as bundles of fancy URLs\n",
    "* each web API is different, but if you can read the documentation and make requests to URLs, you can figure them out\n"
   ]
  },
  {
   "cell_type": "markdown",
   "metadata": {},
   "source": [
    "## Case study: EIA API"
   ]
  },
  {
   "cell_type": "code",
   "execution_count": null,
   "metadata": {},
   "outputs": [],
   "source": [
    "api_key = \"3zjKYxV86AqtJWSRoAECir1wQFscVu6lxXnRVKG8\""
   ]
  },
  {
   "cell_type": "markdown",
   "metadata": {},
   "source": [
    "### challenge"
   ]
  },
  {
   "cell_type": "markdown",
   "metadata": {},
   "source": [
    "If we're looking for yearly data about fuel consumption at the plant level, what route should we request next?"
   ]
  },
  {
   "cell_type": "markdown",
   "metadata": {},
   "source": [
    "### solution"
   ]
  },
  {
   "cell_type": "code",
   "execution_count": null,
   "metadata": {},
   "outputs": [],
   "source": [
    "base_url = \"https://api.eia.gov/v2/electricity\"\n",
    "\n",
    "# requests.get(\"some route for the fuel consumption\")"
   ]
  },
  {
   "cell_type": "markdown",
   "metadata": {},
   "source": [
    "### example: drilling down"
   ]
  },
  {
   "cell_type": "markdown",
   "metadata": {},
   "source": [
    "![Screenshot of documentation, with relevant text reproduced below](../episodes/fig/ep-3/data-endpoint.png)\n",
    "\n",
    "> In earlier examples, when we asked about the metadata, the API responded with these available data points [under the 'data' key]:\n",
    ">\n",
    "> [...]\n",
    ">\n",
    "> Remember, in addition to specifying the column in the data[] parameter, we must also specify /data as the last node in the route:\n",
    ">\n",
    "> `https://api.eia.gov/v2/electricity/retail-sales/data/?api_key=XXXXXX&data[]=price`"
   ]
  },
  {
   "cell_type": "markdown",
   "metadata": {},
   "source": [
    "### challenge"
   ]
  },
  {
   "cell_type": "markdown",
   "metadata": {},
   "source": [
    "Given the above example, and the output for the `facility-fuels` metadata, how do we get the net generation data?\n",
    "\n",
    "Build off of the earlier request, reproduced below:"
   ]
  },
  {
   "cell_type": "markdown",
   "metadata": {},
   "source": [
    "### solution"
   ]
  },
  {
   "cell_type": "code",
   "execution_count": null,
   "metadata": {},
   "outputs": [],
   "source": [
    "# what should the url be changed to?\n",
    "facility_fuel = requests.get(f\"{base_url}/facility-fuel?api_key={api_key}\")"
   ]
  },
  {
   "cell_type": "markdown",
   "metadata": {},
   "source": [
    "### example: frequency"
   ]
  },
  {
   "cell_type": "code",
   "execution_count": null,
   "metadata": {},
   "outputs": [],
   "source": [
    "yearly = requests.get(f\"{base_url}/facility-fuel/data?data[]=generation&frequency=yearly&api_key={api_key}\")\n",
    "yearly"
   ]
  },
  {
   "cell_type": "code",
   "execution_count": null,
   "metadata": {},
   "outputs": [],
   "source": [
    "annual = requests.get(f\"{base_url}/facility-fuel/data?data[]=generation&frequency=annual&api_key={api_key}\")\n",
    "\n",
    "annual.json()"
   ]
  },
  {
   "cell_type": "code",
   "execution_count": null,
   "metadata": {},
   "outputs": [],
   "source": [
    "annual = requests.get(\n",
    "    f\"{base_url}/facility-fuel/data\",\n",
    "    params={\n",
    "        \"data[]\": \"generation\",\n",
    "        \"frequency\": \"annual\",\n",
    "        \"api_key\": api_key\n",
    "    },\n",
    ")\n",
    "\n",
    "annual.json()"
   ]
  },
  {
   "cell_type": "markdown",
   "metadata": {
    "jp-MarkdownHeadingCollapsed": true
   },
   "source": [
    "### example: \"faceting\" / filtering"
   ]
  },
  {
   "cell_type": "code",
   "execution_count": null,
   "metadata": {},
   "outputs": [],
   "source": []
  },
  {
   "cell_type": "code",
   "execution_count": null,
   "metadata": {},
   "outputs": [],
   "source": [
    "facility_fuel.json()"
   ]
  },
  {
   "cell_type": "code",
   "execution_count": null,
   "metadata": {},
   "outputs": [],
   "source": []
  },
  {
   "cell_type": "code",
   "execution_count": null,
   "metadata": {},
   "outputs": [],
   "source": [
    "fueltypes = requests.get(f\"{base_url}/facility-fuel/facet/fuel2002?api_key={api_key}\").json()\n",
    "\n",
    "fueltypes"
   ]
  },
  {
   "cell_type": "code",
   "execution_count": null,
   "metadata": {},
   "outputs": [],
   "source": [
    "annual_ng = requests.get(\n",
    "    f\"{base_url}/facility-fuel/data\",\n",
    "    params={\n",
    "        \"data[]\": \"generation\",\n",
    "        \"frequency\": \"annual\",\n",
    "        \"facets[fuel2002][]\": \"NG\",\n",
    "        \"api_key\": api_key\n",
    "    },\n",
    ")\n",
    "\n",
    "annual_ng.json()"
   ]
  },
  {
   "cell_type": "markdown",
   "metadata": {},
   "source": [
    "### challenge"
   ]
  },
  {
   "cell_type": "markdown",
   "metadata": {},
   "source": [
    "Now we want to limit this to just the state of Colorado - let's update the code to do that.\n",
    "\n",
    "As before, let's build off the old request."
   ]
  },
  {
   "cell_type": "markdown",
   "metadata": {},
   "source": [
    "### solution"
   ]
  },
  {
   "cell_type": "code",
   "execution_count": null,
   "metadata": {},
   "outputs": [],
   "source": [
    "annual_ng = requests.get(\n",
    "    f\"{base_url}/facility-fuel/data\",\n",
    "    params={\n",
    "        \"data[]\": \"generation\",\n",
    "        \"frequency\": \"annual\",\n",
    "        \"facets[fuel2002][]\": \"NG\",\n",
    "        \"api_key\": api_key\n",
    "    },\n",
    ")\n",
    "\n",
    "annual_ng.json()"
   ]
  },
  {
   "cell_type": "markdown",
   "metadata": {},
   "source": [
    "### example: time limits"
   ]
  },
  {
   "cell_type": "markdown",
   "metadata": {},
   "source": [
    "We saw the start/end parameters a bit earlier, but let's actually poke at the documentation to see how they're used:\n",
    "\n",
    "![Screenshot with several examples, reproduced below](../episodes/fig/ep-3/start-end.png)\n",
    "\n",
    "> Start date\n",
    "> https://api.eia.gov/v2/electricity/retail-sales/data?api_key=xxxxxx&data[]=price&facets[sectorid][]=RES&facets[stateid][]=CO&frequency=monthly&start=2008-01-31\n",
    ">\n",
    "> End date\n",
    "> https://api.eia.gov/v2/electricity/retail-sales/data?api_key=xxxxxx&data[]=price&facets[sectorid][]=RES&facets[stateid][]=CO&frequency=monthly&end=2008-03-01\n",
    ">\n",
    "> Start and end date together\n",
    "> https://api.eia.gov/v2/electricity/retail-sales/data?api_key=xxxxxx&data[]=price&facets[sectorid][]=RES&facets[stateid][]=CO&frequency=monthly&start=2008-01-31&end=2008-03-01\n",
    "\n",
    "Let's try out this pattern!"
   ]
  },
  {
   "cell_type": "markdown",
   "metadata": {},
   "source": [
    "### challenge"
   ]
  },
  {
   "cell_type": "markdown",
   "metadata": {},
   "source": [
    "Limit the results to 2020-2023. Start from your last query, reproduced below:"
   ]
  },
  {
   "cell_type": "markdown",
   "metadata": {},
   "source": [
    "### solution"
   ]
  },
  {
   "cell_type": "code",
   "execution_count": null,
   "metadata": {},
   "outputs": [],
   "source": [
    "annual_ng_co = requests.get(\n",
    "    f\"{base_url}/facility-fuel/data\",\n",
    "    params={\n",
    "        \"data[]\": \"generation\",\n",
    "        \"frequency\": \"annual\",\n",
    "        \"facets[fuel2002][]\": \"NG\",\n",
    "        \"facets[state][]\": \"CO\",\n",
    "        \"api_key\": api_key\n",
    "    },\n",
    ")\n",
    "\n",
    "annual_ng_co.json()"
   ]
  },
  {
   "cell_type": "markdown",
   "metadata": {},
   "source": [
    "### discussion"
   ]
  },
  {
   "cell_type": "markdown",
   "metadata": {},
   "source": [
    "Think back to the metadata you saw - what are some questions can you answer with the `facility-fuel` endpoint?"
   ]
  },
  {
   "cell_type": "markdown",
   "metadata": {},
   "source": [
    "### keypoints"
   ]
  },
  {
   "cell_type": "markdown",
   "metadata": {},
   "source": [
    "* Many functions in the `pandas.read_*` family can read tabular data from remote servers & cloud storage as if it was on your local computer\n",
    "* `requests` can get data that's not in the right shape for `pandas.read_*`; you'll have to do the translation from their response format into `pandas.DataFrame` yourself\n",
    "* web APIs are just collections of fancy URLs, which you can interact with via `requests`\n",
    "* to learn an API, you need to be able to read the documentation and experiment with the API to see how it responds."
   ]
  },
  {
   "cell_type": "code",
   "execution_count": null,
   "metadata": {},
   "outputs": [],
   "source": []
  }
 ],
 "metadata": {
  "kernelspec": {
   "display_name": "Python 3 (ipykernel)",
   "language": "python",
   "name": "python3"
  },
  "language_info": {
   "codemirror_mode": {
    "name": "ipython",
    "version": 3
   },
   "file_extension": ".py",
   "mimetype": "text/x-python",
   "name": "python",
   "nbconvert_exporter": "python",
   "pygments_lexer": "ipython3",
   "version": "3.12.9"
  }
 },
 "nbformat": 4,
 "nbformat_minor": 4
}
