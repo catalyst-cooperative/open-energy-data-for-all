{
 "cells": [
  {
   "cell_type": "markdown",
   "id": "0d3010c6-1cce-49f6-9b9e-be36d9facac8",
   "metadata": {},
   "source": [
    "# Web Scraping & Pagination"
   ]
  },
  {
   "cell_type": "markdown",
   "id": "75882dac-368d-4a2a-a49b-3cd8aa650de8",
   "metadata": {},
   "source": [
    "## EIA Forms 923/906"
   ]
  },
  {
   "cell_type": "markdown",
   "id": "c152fbd7-5f11-4558-8c25-8a6ac26b331e",
   "metadata": {},
   "source": [
    "### Example: getting links from a webpage\n",
    "\n",
    "We'll be looking at the [EIA 923 webpage](https://www.eia.gov/electricity/data/eia923/) in examples and the [EIA-906 historical archive](https://www.eia.gov/electricity/data/eia923/eia906u.php) in exercises."
   ]
  },
  {
   "cell_type": "code",
   "execution_count": null,
   "id": "305eda4d-7803-4545-8b70-40d56b7d678c",
   "metadata": {},
   "outputs": [],
   "source": [
    "import requests"
   ]
  },
  {
   "cell_type": "code",
   "execution_count": null,
   "id": "f92071e8-a01b-4f59-bfe7-5a09c92ab40b",
   "metadata": {},
   "outputs": [],
   "source": [
    "eia_923_url = \"https://www.eia.gov/electricity/data/eia923/\""
   ]
  },
  {
   "cell_type": "code",
   "execution_count": null,
   "id": "93acaf27-de6f-4dcb-9f91-950f44f0fd26",
   "metadata": {
    "scrolled": true
   },
   "outputs": [],
   "source": [
    "eia_923_response = requests.get(eia_923_url)\n",
    "eia_923_response.text"
   ]
  },
  {
   "cell_type": "code",
   "execution_count": null,
   "id": "1f36e650-e533-47b4-be7f-ca5e56256113",
   "metadata": {},
   "outputs": [],
   "source": [
    "import bs4"
   ]
  },
  {
   "cell_type": "code",
   "execution_count": null,
   "id": "cacba3c2-8987-442c-a32a-ec2696da704b",
   "metadata": {},
   "outputs": [],
   "source": [
    "eia_923_soup = bs4.BeautifulSoup(eia_923_response.text)\n",
    "eia_923_soup"
   ]
  },
  {
   "cell_type": "code",
   "execution_count": null,
   "id": "6a63dbb4-dcca-481c-9660-a9dcf4667533",
   "metadata": {},
   "outputs": [],
   "source": [
    "eia_923_soup.find_all(\"title\")"
   ]
  },
  {
   "cell_type": "code",
   "execution_count": null,
   "id": "235c812e-cec7-499d-a486-56bb851ea6cb",
   "metadata": {},
   "outputs": [],
   "source": [
    "eia_923_all_a_tags = eia_923_soup.find_all(\"a\")\n",
    "eia_923_all_a_tags"
   ]
  },
  {
   "cell_type": "code",
   "execution_count": null,
   "id": "f50674af-5383-453b-8205-bcda63873614",
   "metadata": {},
   "outputs": [],
   "source": [
    "eia_923_a_hrefs = eia_923_soup.find_all(\"a\", href=True)\n",
    "eia_923_a_hrefs"
   ]
  },
  {
   "cell_type": "code",
   "execution_count": null,
   "id": "770f2e58-4143-45b8-97a3-64c5431f51aa",
   "metadata": {},
   "outputs": [],
   "source": [
    "eia_923_zip_tags = []\n",
    "for a in eia_923_a_hrefs:\n",
    "    if a[\"href\"].lower().endswith(\".zip\") and \"906\" not in a[\"href\"]:\n",
    "        eia_923_zip_tags.append(a)\n",
    "eia_923_zip_tags"
   ]
  },
  {
   "cell_type": "markdown",
   "id": "64ff327a-ca22-419d-80fe-3a3f1b66c78b",
   "metadata": {},
   "source": [
    "### Challenge: get all the relevant `a` tags from EIA 906"
   ]
  },
  {
   "cell_type": "markdown",
   "id": "fde7e0c8-7496-4e2d-8d14-0e6485b03b9d",
   "metadata": {},
   "source": [
    "Lots of the data that is collected in EIA 923 was collected in EIA 906 in the past.\n",
    "\n",
    "We'll have you work through the scraping steps on the 906 data to get a sense of how this all works.\n",
    "\n",
    "\n",
    "Let's get the relevant `a` tags from the [EIA 906 page](https://www.eia.gov/electricity/data/eia923/eia906u.php):\n",
    "\n",
    "Start with the skeleton code outlined below - we expect a variable called `eia_906_xls_tags` at the end, which holds all the tags that refer to the actual 1970-2000 data files."
   ]
  },
  {
   "cell_type": "markdown",
   "id": "807318dd-5b5a-49be-a1a0-f79ab525f48f",
   "metadata": {},
   "source": [
    "### Solution"
   ]
  },
  {
   "cell_type": "code",
   "execution_count": null,
   "id": "6caab728-874f-4fd9-a213-fd5e2212ca84",
   "metadata": {},
   "outputs": [],
   "source": [
    "eia_906_url = \"https://www.eia.gov/electricity/data/eia923/eia906u.php\"\n",
    "# get the page contents\n",
    "# turn it into a collection of tags\n",
    "# filter them down to the tags that contain the links to XLS data - for all years 1970-2000"
   ]
  },
  {
   "cell_type": "markdown",
   "id": "db1592b1-44ef-46b2-a6d2-e57605b0870b",
   "metadata": {},
   "source": [
    "### Example: downloading data"
   ]
  },
  {
   "cell_type": "code",
   "execution_count": null,
   "id": "47e2bc48-89f5-44e1-988b-878f28bdd489",
   "metadata": {},
   "outputs": [],
   "source": [
    "eia_923_one_link = eia_923_zip_tags[0]\n",
    "eia_923_one_link"
   ]
  },
  {
   "cell_type": "code",
   "execution_count": null,
   "id": "37916fe9-e397-4372-9d4c-52802409b9ee",
   "metadata": {},
   "outputs": [],
   "source": [
    "eia_923_one_response = requests.get(eia_923_one_link[\"href\"])"
   ]
  },
  {
   "cell_type": "code",
   "execution_count": null,
   "id": "dbcaa606-d185-4b61-b3ba-8683f05e7ddd",
   "metadata": {},
   "outputs": [],
   "source": [
    "from urllib.parse import urljoin"
   ]
  },
  {
   "cell_type": "code",
   "execution_count": null,
   "id": "bf662718-2124-4b57-b1d1-431787fe99b4",
   "metadata": {},
   "outputs": [],
   "source": [
    "eia_923_one_full_url = urljoin(eia_923_url, eia_923_one_link[\"href\"])\n",
    "response = requests.get(eia_923_one_full_url)\n",
    "response"
   ]
  },
  {
   "cell_type": "code",
   "execution_count": null,
   "id": "f3c359fe-37ad-4605-aebd-6c60da0aa9fb",
   "metadata": {},
   "outputs": [],
   "source": []
  },
  {
   "cell_type": "markdown",
   "id": "719540d2-bb0b-4995-9c42-5b1892addea2",
   "metadata": {},
   "source": [
    "### Challenge: get the Form 906 file contents"
   ]
  },
  {
   "cell_type": "markdown",
   "id": "6631747e-da4e-4580-93b2-d2c71cb84b5f",
   "metadata": {},
   "source": [
    "OK, so now we know how to scrape a bunch of URLs from a webpage. Let's read the Form 906 files into our program! Since they're XLS files, we can read them directly from a URL using `pandas.read_excel`.\n",
    "\n",
    "Try making a list, `eia_906_dataframes`, that includes all of the data files from the [EIA 906 page](https://www.eia.gov/electricity/data/eia923/eia906u.php) - start with the (minimal) scaffold below!"
   ]
  },
  {
   "cell_type": "markdown",
   "id": "8a1bda53-66ff-4831-b1f1-c3be1cafd812",
   "metadata": {},
   "source": [
    "### Solution"
   ]
  },
  {
   "cell_type": "code",
   "execution_count": null,
   "id": "3825a7b3-d098-4ae8-8d88-b0460342be5b",
   "metadata": {},
   "outputs": [],
   "source": [
    "import pandas as pd\n",
    "\n",
    "eia_906_dataframes = []\n",
    "\n",
    "# loop through the eia_906_xls_tags and make a pd.DataFrame for each one"
   ]
  },
  {
   "cell_type": "markdown",
   "id": "9d5e7fee-c830-46cb-a50a-7ca1426efaaa",
   "metadata": {},
   "source": [
    "### Discussion"
   ]
  },
  {
   "cell_type": "markdown",
   "id": "bd57043f-c89a-4bee-be17-e75644fa33b5",
   "metadata": {},
   "source": [
    "Why might you choose to do all this instead of just manually collecting links?"
   ]
  },
  {
   "cell_type": "markdown",
   "id": "01e1a583-6f68-447c-b427-fe7b1a731182",
   "metadata": {},
   "source": [
    "## Pagination"
   ]
  },
  {
   "cell_type": "markdown",
   "id": "b666da7b-473c-47e0-873a-45f64b88d4b0",
   "metadata": {},
   "source": [
    "### Example: getting the first few pages"
   ]
  },
  {
   "cell_type": "code",
   "execution_count": null,
   "id": "46cb7b3f-b3ea-465a-b99f-4ebec519b541",
   "metadata": {},
   "outputs": [],
   "source": [
    "eia_api_base_url = \"https://api.eia.gov/v2/electricity\"\n",
    "api_key = \"3zjKYxV86AqtJWSRoAECir1wQFscVu6lxXnRVKG8\""
   ]
  },
  {
   "cell_type": "code",
   "execution_count": null,
   "id": "21d14e9e-9fa3-43dc-9916-d6e567236ee7",
   "metadata": {},
   "outputs": [],
   "source": [
    "first_page = requests.get(\n",
    "  f\"{eia_api_base_url}/facility-fuel/data\",\n",
    "  params={\n",
    "    \"data[]\": \"generation\",\n",
    "    \"facets[state][]\": \"CO\",\n",
    "    \"sort[0][column]\": \"period\",\n",
    "    \"sort[0][direction]\": \"desc\",\n",
    "    \"sort[1][column]\": \"plantCode\",\n",
    "    \"sort[1][direction]\": \"desc\",\n",
    "    \"api_key\": api_key\n",
    "  }\n",
    ").json()[\"response\"]\n",
    "\n",
    "first_page.keys()"
   ]
  },
  {
   "cell_type": "code",
   "execution_count": null,
   "id": "ccdb8c2a-a717-427c-a0b1-3867344c5019",
   "metadata": {},
   "outputs": [],
   "source": [
    "pd.DataFrame(first_page[\"data\"])"
   ]
  },
  {
   "cell_type": "code",
   "execution_count": null,
   "id": "c2228a16-6409-4d23-882f-f7f807c83315",
   "metadata": {},
   "outputs": [],
   "source": [
    "next_page = requests.get(\n",
    "  f\"{eia_api_base_url}/facility-fuel/data\",\n",
    "  params={\n",
    "    \"data[]\": \"generation\",\n",
    "    \"facets[state][]\": \"CO\",\n",
    "    \"sort[0][column]\": \"period\",\n",
    "    \"sort[0][direction]\": \"desc\",\n",
    "    \"sort[1][column]\": \"plantCode\",\n",
    "    \"sort[1][direction]\": \"desc\",\n",
    "    \"offset\": 5000,\n",
    "    \"api_key\": api_key\n",
    "  }\n",
    ").json()[\"response\"]"
   ]
  },
  {
   "cell_type": "code",
   "execution_count": null,
   "id": "516ec73f-6ba9-49f3-a459-69d5dbb85544",
   "metadata": {},
   "outputs": [],
   "source": [
    "pd.DataFrame(next_page[\"data\"])"
   ]
  },
  {
   "cell_type": "code",
   "execution_count": null,
   "id": "dad33b7a-d0f5-4022-a716-2a192aa20875",
   "metadata": {},
   "outputs": [],
   "source": [
    "for page_num in range(5):\n",
    "    print(f\"Getting page {page_num}\")\n",
    "    # actually get the page here..."
   ]
  },
  {
   "cell_type": "code",
   "execution_count": null,
   "id": "b3d00509-426c-43fa-9af1-ced4bb135d3a",
   "metadata": {
    "jupyter": {
     "source_hidden": true
    }
   },
   "outputs": [],
   "source": [
    "total_rows = first_page[\"total\"]"
   ]
  },
  {
   "cell_type": "code",
   "execution_count": null,
   "id": "2f96d33c-4948-490e-bf41-f2e3e9ce7c6a",
   "metadata": {
    "jupyter": {
     "source_hidden": true
    }
   },
   "outputs": [],
   "source": [
    "import math"
   ]
  },
  {
   "cell_type": "code",
   "execution_count": null,
   "id": "efecb252-58d2-4322-b9e2-280f97b95e09",
   "metadata": {},
   "outputs": [],
   "source": [
    "page_size = 5000\n",
    "num_pages = math.ceil(int(total_rows) / page_size)\n",
    "num_pages"
   ]
  },
  {
   "cell_type": "markdown",
   "id": "3dc42574-c9d5-4f16-a625-0a85321849b0",
   "metadata": {},
   "source": [
    "### Challenge: pagination"
   ]
  },
  {
   "cell_type": "markdown",
   "id": "6db605f8-7acd-426e-acbd-85aceae47ca4",
   "metadata": {},
   "source": [
    "OK, now let's put it all together! \n",
    "\n",
    "Let's try to get *all* of the net generation data in Colorado that is in the EIA API.\n",
    "\n",
    "Start with the following code and modify it to work:"
   ]
  },
  {
   "cell_type": "markdown",
   "id": "52ed1e68-7fe0-4c96-9b3e-5b6cb2780832",
   "metadata": {},
   "source": [
    "### Solution"
   ]
  },
  {
   "cell_type": "code",
   "execution_count": null,
   "id": "9207036e-d86e-4522-a853-e14f60d221ec",
   "metadata": {},
   "outputs": [],
   "source": [
    "all_records = []\n",
    "for page_num in range(num_pages):\n",
    "    print(f\"Getting page {page_num}...\")\n",
    "    offset = ___\n",
    "    page = requests.get(\n",
    "      f\"{eia_api_base_url}/facility-fuel/data\",\n",
    "      params={\n",
    "        \"data[]\": \"generation\",\n",
    "        \"facets[state][]\": \"CO\",\n",
    "        \"sort[0][column]\": \"period\",\n",
    "        \"sort[0][direction]\": \"desc\",\n",
    "        \"sort[1][column]\": \"plantCode\",\n",
    "        \"sort[1][direction]\": \"desc\",\n",
    "        ___,\n",
    "        \"api_key\": api_key\n",
    "      }\n",
    "    ).json()[\"response\"]\n",
    "    all_records.append(pd.DataFrame(page[\"data\"]))\n",
    "\n",
    "df = pd.concat(all_records)"
   ]
  },
  {
   "cell_type": "markdown",
   "id": "0e5ec354-9f10-4972-a4cf-e4ebb4602218",
   "metadata": {
    "jp-MarkdownHeadingCollapsed": true
   },
   "source": [
    "## Key points"
   ]
  },
  {
   "cell_type": "markdown",
   "id": "13c50d38-2b99-495a-80cd-58b8566f9525",
   "metadata": {},
   "source": [
    "- beautiful soup lets you grab links out of a webpage so that you can then download them\n",
    "- if you need to get more than one request worth of results from an API, they usually provide some \"pagination\" capabilities so you can make all the requests programmatically.\n",
    "- web scraping is a wide world - if you get stuck, try searching for some of the keywords above."
   ]
  },
  {
   "cell_type": "code",
   "execution_count": null,
   "id": "71014a45-fc32-499f-b05e-fbb1ae731d22",
   "metadata": {},
   "outputs": [],
   "source": []
  }
 ],
 "metadata": {
  "kernelspec": {
   "display_name": "Python 3 (ipykernel)",
   "language": "python",
   "name": "python3"
  },
  "language_info": {
   "codemirror_mode": {
    "name": "ipython",
    "version": 3
   },
   "file_extension": ".py",
   "mimetype": "text/x-python",
   "name": "python",
   "nbconvert_exporter": "python",
   "pygments_lexer": "ipython3",
   "version": "3.12.9"
  }
 },
 "nbformat": 4,
 "nbformat_minor": 5
}
