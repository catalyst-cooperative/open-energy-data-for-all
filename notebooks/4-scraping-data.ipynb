{
 "cells": [
  {
   "cell_type": "markdown",
   "id": "0d3010c6-1cce-49f6-9b9e-be36d9facac8",
   "metadata": {},
   "source": [
    "# Web Scraping & Pagination"
   ]
  },
  {
   "cell_type": "markdown",
   "id": "75882dac-368d-4a2a-a49b-3cd8aa650de8",
   "metadata": {},
   "source": [
    "## EIA Forms 923/906"
   ]
  },
  {
   "cell_type": "markdown",
   "id": "c152fbd7-5f11-4558-8c25-8a6ac26b331e",
   "metadata": {},
   "source": [
    "### Example: getting links from a webpage\n",
    "\n",
    "We'll be looking at the [EIA 923 webpage](https://www.eia.gov/electricity/data/eia923/) in examples and the [EIA-906 historical archive](https://www.eia.gov/electricity/data/eia923/eia906u.php) in exercises."
   ]
  },
  {
   "cell_type": "code",
   "execution_count": null,
   "id": "e553c19c-43ba-4404-91e7-a5c65c9ef6a6",
   "metadata": {},
   "outputs": [],
   "source": [
    "import requests"
   ]
  },
  {
   "cell_type": "code",
   "execution_count": null,
   "id": "3c9941ea-9fe6-4f39-911e-4a8d07af6b91",
   "metadata": {},
   "outputs": [],
   "source": [
    "eia_923_url = \"https://www.eia.gov/electricity/data/eia923/\""
   ]
  },
  {
   "cell_type": "code",
   "execution_count": null,
   "id": "10739b4b-b495-4eeb-94fd-2c9efc83ca4b",
   "metadata": {},
   "outputs": [],
   "source": [
    "eia_923_response = requests.get(eia_923_url)\n",
    "eia_923_response.text"
   ]
  },
  {
   "cell_type": "code",
   "execution_count": null,
   "id": "3a9a6192-74e2-4e0a-b007-2531a1ea54eb",
   "metadata": {},
   "outputs": [],
   "source": [
    "import bs4"
   ]
  },
  {
   "cell_type": "code",
   "execution_count": null,
   "id": "f7860fbf-32bf-46e1-868b-25715816d3cc",
   "metadata": {},
   "outputs": [],
   "source": [
    "eia_923_soup = bs4.BeautifulSoup(eia_923_response.text)\n",
    "eia_923_soup"
   ]
  },
  {
   "cell_type": "code",
   "execution_count": null,
   "id": "37a254c7-8460-4923-b5e7-ede73f542ac0",
   "metadata": {},
   "outputs": [],
   "source": [
    "eia_923_soup.find_all(\"title\")"
   ]
  },
  {
   "cell_type": "code",
   "execution_count": null,
   "id": "0820ad11-50d5-4d87-bce7-0f632687daaa",
   "metadata": {},
   "outputs": [],
   "source": [
    "eia_923_all_a_tags = eia_923_soup.find_all(\"a\")\n",
    "eia_923_all_a_tags"
   ]
  },
  {
   "cell_type": "code",
   "execution_count": null,
   "id": "e21f3def-59cb-4678-80cd-409a4348b3c1",
   "metadata": {},
   "outputs": [],
   "source": [
    "eia_923_a_hrefs = eia_923_soup.find_all(\"a\", href=True)\n",
    "eia_923_a_hrefs"
   ]
  },
  {
   "cell_type": "code",
   "execution_count": null,
   "id": "e1113524-6d25-4fe6-bc9f-1aa50998fb7b",
   "metadata": {},
   "outputs": [],
   "source": [
    "eia_923_zip_tags = []\n",
    "for a in eia_923_a_hrefs:\n",
    "    if a[\"href\"].lower().endswith(\".zip\") and \"f906\" not in a[\"href\"]:\n",
    "        eia_923_zip_tags.append(a)\n",
    "eia_923_zip_tags"
   ]
  },
  {
   "cell_type": "markdown",
   "id": "64ff327a-ca22-419d-80fe-3a3f1b66c78b",
   "metadata": {},
   "source": [
    "### Challenge: get all the relevant `a` tags from EIA 906"
   ]
  },
  {
   "cell_type": "markdown",
   "id": "fde7e0c8-7496-4e2d-8d14-0e6485b03b9d",
   "metadata": {},
   "source": [
    "Lots of the data that is collected in EIA 923 was collected in EIA 906 in the past.\n",
    "\n",
    "We'll have you work through the scraping steps on the 906 data to get a sense of how this all works.\n",
    "\n",
    "\n",
    "Let's get the relevant `a` tags from the [EIA 906 page](https://www.eia.gov/electricity/data/eia923/eia906u.php):\n",
    "\n",
    "Start with the skeleton code outlined below - we expect a variable called `eia_906_xls_tags` at the end, which holds all the tags that refer to the actual 1970-2000 data files."
   ]
  },
  {
   "cell_type": "markdown",
   "id": "807318dd-5b5a-49be-a1a0-f79ab525f48f",
   "metadata": {},
   "source": [
    "### Solution"
   ]
  },
  {
   "cell_type": "code",
   "execution_count": null,
   "id": "6caab728-874f-4fd9-a213-fd5e2212ca84",
   "metadata": {},
   "outputs": [],
   "source": [
    "eia_906_url = \"https://www.eia.gov/electricity/data/eia923/eia906u.php\"\n",
    "# get the page contents\n",
    "# turn it into a collection of tags\n",
    "# filter them down to the tags that contain the links to XLS data - for all years 1970-2000"
   ]
  },
  {
   "cell_type": "markdown",
   "id": "db1592b1-44ef-46b2-a6d2-e57605b0870b",
   "metadata": {},
   "source": [
    "### Example: downloading data"
   ]
  },
  {
   "cell_type": "code",
   "execution_count": null,
   "id": "61718c97-e21c-4f14-a0b6-4e1263f72f78",
   "metadata": {},
   "outputs": [],
   "source": [
    "eia_906_one_link = eia_906_xls_tags[0]\n",
    "eia_906_one_link"
   ]
  },
  {
   "cell_type": "code",
   "execution_count": null,
   "id": "a1567be1-ae44-4a63-b2d2-718875d1edfc",
   "metadata": {},
   "outputs": [],
   "source": [
    "eia_923_one_df = pd.read_excel(eia_906_one_link[\"href\"])"
   ]
  },
  {
   "cell_type": "code",
   "execution_count": null,
   "id": "fad6a316-6d01-4e01-b178-9be5f323c913",
   "metadata": {},
   "outputs": [],
   "source": [
    "# https://www.eia.gov/electricity/data/eia923/archive/xls/utility/f7592000mu.xls"
   ]
  },
  {
   "cell_type": "code",
   "execution_count": null,
   "id": "6ae0c1bb-8406-4a9a-9deb-e150e9040139",
   "metadata": {},
   "outputs": [],
   "source": [
    "from urllib.parse import urljoin"
   ]
  },
  {
   "cell_type": "code",
   "execution_count": null,
   "id": "bb963626-d55e-48ae-8ddb-bbf2e273a117",
   "metadata": {},
   "outputs": [],
   "source": [
    "eia_906_one_full_url = urljoin(eia_906_url, eia_906_one_link[\"href\"])"
   ]
  },
  {
   "cell_type": "code",
   "execution_count": null,
   "id": "f6ce1527-7a78-4b3a-b669-69a5ddef1bdc",
   "metadata": {},
   "outputs": [],
   "source": [
    "eia_906_one_df = pd.read_excel(eia_906_one_full_url)"
   ]
  },
  {
   "cell_type": "code",
   "execution_count": null,
   "id": "57171bfb-f7ca-41fe-b83a-388dd0da8ed0",
   "metadata": {},
   "outputs": [],
   "source": [
    "eia_906_one_df"
   ]
  },
  {
   "cell_type": "code",
   "execution_count": null,
   "id": "caddc615-8a56-4a99-a513-bfed0f1a6c81",
   "metadata": {},
   "outputs": [],
   "source": []
  },
  {
   "cell_type": "markdown",
   "id": "719540d2-bb0b-4995-9c42-5b1892addea2",
   "metadata": {},
   "source": [
    "### Challenge: get the Form 906 file contents"
   ]
  },
  {
   "cell_type": "markdown",
   "id": "6631747e-da4e-4580-93b2-d2c71cb84b5f",
   "metadata": {},
   "source": [
    "OK, so now we know how to scrape a bunch of URLs from a webpage. Let's read the Form 906 files into our program! Since they're XLS files, we can read them directly from a URL using `pandas.read_excel`.\n",
    "\n",
    "Try making a list, `eia_906_dataframes`, that includes all of the data files from the [EIA 906 page](https://www.eia.gov/electricity/data/eia923/eia906u.php) - start with the (minimal) scaffold below!"
   ]
  },
  {
   "cell_type": "markdown",
   "id": "8a1bda53-66ff-4831-b1f1-c3be1cafd812",
   "metadata": {},
   "source": [
    "### Solution"
   ]
  },
  {
   "cell_type": "code",
   "execution_count": null,
   "id": "3825a7b3-d098-4ae8-8d88-b0460342be5b",
   "metadata": {},
   "outputs": [],
   "source": [
    "import pandas as pd\n",
    "\n",
    "eia_906_dataframes = []\n",
    "\n",
    "# loop through the eia_906_xls_tags and make a pd.DataFrame for each one"
   ]
  },
  {
   "cell_type": "markdown",
   "id": "9d5e7fee-c830-46cb-a50a-7ca1426efaaa",
   "metadata": {},
   "source": [
    "### Discussion"
   ]
  },
  {
   "cell_type": "markdown",
   "id": "bd57043f-c89a-4bee-be17-e75644fa33b5",
   "metadata": {},
   "source": [
    "Why might you choose to do all this instead of just manually collecting links?"
   ]
  },
  {
   "cell_type": "markdown",
   "id": "01e1a583-6f68-447c-b427-fe7b1a731182",
   "metadata": {},
   "source": [
    "## Pagination\n",
    "\n",
    "> Offset stipulates the row number the API should begin its return with, out of all the eligible rows our query would otherwise provide.\n",
    ">\n",
    "> [...]\n",
    ">\n",
    "> `https://api.eia.gov/v2/electricity/retail_sales/data?api_key=xxxxxx&data[]=price&facets[sectorid][]=RES&facets[stateid][]=CO&frequency=monthly&sort[0][column]=period&sort[0][direction]=desc&offset=24`\n",
    ">\n",
    "> In the above example, the API will skip over the first 24 eligible rows (offset=24), which translates into 24 months (frequency=monthly).\n",
    "\n",
    "source: https://www.eia.gov/opendata/documentation.php"
   ]
  },
  {
   "cell_type": "markdown",
   "id": "b666da7b-473c-47e0-873a-45f64b88d4b0",
   "metadata": {},
   "source": [
    "### Example: getting the first few pages"
   ]
  },
  {
   "cell_type": "code",
   "execution_count": null,
   "id": "10e0d75f-0539-48a9-bce5-8cd5830dc309",
   "metadata": {},
   "outputs": [],
   "source": [
    "eia_api_base_url = \"https://api.eia.gov/v2/electricity\"\n",
    "api_key = \"3zjKYxV86AqtJWSRoAECir1wQFscVu6lxXnRVKG8\""
   ]
  },
  {
   "cell_type": "code",
   "execution_count": null,
   "id": "2e74ebb2-9720-4216-8988-2b268b83e8a7",
   "metadata": {},
   "outputs": [],
   "source": [
    "first_page = requests.get(\n",
    "    f\"{eia_api_base_url}/facility-fuel/data\",\n",
    "    params={\n",
    "        \"data[]\": \"generation\",\n",
    "        \"facets[state][]\": \"CO\",\n",
    "        \"sort[0][column]\": \"period\",\n",
    "        \"sort[0][direction]\": \"desc\",\n",
    "        \"sort[1][column]\": \"plantCode\",\n",
    "        \"sort[1][direction]\": \"desc\",\n",
    "        \"api_key\": api_key\n",
    "    }\n",
    ").json()[\"response\"]"
   ]
  },
  {
   "cell_type": "code",
   "execution_count": null,
   "id": "b861a6c4-aa5f-4a0c-a8e8-ac7c2447ccc6",
   "metadata": {},
   "outputs": [],
   "source": [
    "first_page.keys()"
   ]
  },
  {
   "cell_type": "code",
   "execution_count": null,
   "id": "10d6b1cc-6ad7-45aa-9e7a-c93086deec29",
   "metadata": {},
   "outputs": [],
   "source": [
    "pd.DataFrame(first_page[\"data\"])"
   ]
  },
  {
   "cell_type": "code",
   "execution_count": null,
   "id": "6594cc79-0e49-430f-84d0-4adc07af304b",
   "metadata": {},
   "outputs": [],
   "source": [
    "first_page[\"warnings\"]"
   ]
  },
  {
   "cell_type": "code",
   "execution_count": null,
   "id": "6d57bbbe-b34d-4b48-a1e1-98190a2bd96a",
   "metadata": {},
   "outputs": [],
   "source": [
    "next_page = requests.get(\n",
    "    f\"{eia_api_base_url}/facility-fuel/data\",\n",
    "    params={\n",
    "        \"data[]\": \"generation\",\n",
    "        \"facets[state][]\": \"CO\",\n",
    "        \"sort[0][column]\": \"period\",\n",
    "        \"sort[0][direction]\": \"desc\",\n",
    "        \"sort[1][column]\": \"plantCode\",\n",
    "        \"sort[1][direction]\": \"desc\",\n",
    "        \"offset\": 5000,\n",
    "        \"api_key\": api_key\n",
    "    }\n",
    ").json()[\"response\"]"
   ]
  },
  {
   "cell_type": "code",
   "execution_count": null,
   "id": "f3a2d169-6b57-474d-aea5-f5d77a439e94",
   "metadata": {},
   "outputs": [],
   "source": [
    "pd.DataFrame(next_page[\"data\"])"
   ]
  },
  {
   "cell_type": "code",
   "execution_count": null,
   "id": "c844c034-d71c-4e93-9d97-31b02bd10327",
   "metadata": {},
   "outputs": [],
   "source": [
    "for i in range(5):\n",
    "    print(i)"
   ]
  },
  {
   "cell_type": "code",
   "execution_count": null,
   "id": "86d434e0-d61f-4b22-9614-32ff5ca655cc",
   "metadata": {},
   "outputs": [],
   "source": [
    "for i in range(10, 15):\n",
    "    print(i)"
   ]
  },
  {
   "cell_type": "code",
   "execution_count": null,
   "id": "0f3b9685-dfd6-4f14-876b-864662502fe6",
   "metadata": {},
   "outputs": [],
   "source": [
    "for i in range(0, 15, 5):\n",
    "    print(i)"
   ]
  },
  {
   "cell_type": "markdown",
   "id": "981e4cb7-f64a-49e3-a9bc-487317bf7a65",
   "metadata": {},
   "source": [
    "### Challenge: `range`"
   ]
  },
  {
   "cell_type": "markdown",
   "id": "483b8bfd-96b6-4e91-b2d9-8254ba14b3d8",
   "metadata": {},
   "source": [
    "If you wanted to set a fresh `offset` for every page in a number of rows, how would you do that?"
   ]
  },
  {
   "cell_type": "markdown",
   "id": "14510ad5-3c41-483c-9087-00359e60e458",
   "metadata": {},
   "source": [
    "### Solution"
   ]
  },
  {
   "cell_type": "code",
   "execution_count": null,
   "id": "b2064a22-fb13-40ee-b9b3-bc6fbbc8e42f",
   "metadata": {},
   "outputs": [],
   "source": [
    "total_rows = 1234 # just a placeholder for now\n",
    "page_size = 100\n",
    "\n",
    "# print out the offset for each page - should be something like 0, 100, ... 1100, 1200"
   ]
  },
  {
   "cell_type": "markdown",
   "id": "3dc42574-c9d5-4f16-a625-0a85321849b0",
   "metadata": {},
   "source": [
    "### Challenge: pagination"
   ]
  },
  {
   "cell_type": "markdown",
   "id": "6db605f8-7acd-426e-acbd-85aceae47ca4",
   "metadata": {},
   "source": [
    "OK, now let's put it all together! \n",
    "\n",
    "Let's try to get the net generation data in Colorado that is in the EIA API.\n",
    "\n",
    "Instead of getting all of it, which will take a lot of waiting around, let's just grab the first 12,345 rows.\n",
    "\n",
    "Start with the following code and modify it to work:"
   ]
  },
  {
   "cell_type": "markdown",
   "id": "52ed1e68-7fe0-4c96-9b3e-5b6cb2780832",
   "metadata": {},
   "source": [
    "### Solution"
   ]
  },
  {
   "cell_type": "code",
   "execution_count": null,
   "id": "9207036e-d86e-4522-a853-e14f60d221ec",
   "metadata": {},
   "outputs": [],
   "source": [
    "all_records = []\n",
    "# loop through the necessary pages to get 12,345 rows\n",
    "    print(f\"Getting page starting at {offset}...\")\n",
    "    page = requests.get(\n",
    "      f\"{eia_api_base_url}/facility-fuel/data\",\n",
    "      params={\n",
    "        \"data[]\": \"generation\",\n",
    "        \"facets[state][]\": \"CO\",\n",
    "        \"sort[0][column]\": \"period\",\n",
    "        \"sort[0][direction]\": \"desc\",\n",
    "        \"sort[1][column]\": \"plantCode\",\n",
    "        \"sort[1][direction]\": \"desc\",\n",
    "        \"offset\": # what goes here?\n",
    "        \"api_key\": api_key\n",
    "      }\n",
    "    ).json()[\"response\"]\n",
    "    all_records.append(pd.DataFrame(page[\"data\"]))\n",
    "\n",
    "df = pd.concat(all_records)"
   ]
  },
  {
   "cell_type": "code",
   "execution_count": null,
   "id": "f3cea1e5-c144-4850-845b-0dfa04e1761f",
   "metadata": {},
   "outputs": [],
   "source": [
    "first_page.keys()"
   ]
  },
  {
   "cell_type": "code",
   "execution_count": null,
   "id": "1b2925f7-ac78-402d-9c57-71a0dd069105",
   "metadata": {},
   "outputs": [],
   "source": [
    "first_page[\"total\"]"
   ]
  },
  {
   "cell_type": "markdown",
   "id": "0e5ec354-9f10-4972-a4cf-e4ebb4602218",
   "metadata": {
    "jp-MarkdownHeadingCollapsed": true
   },
   "source": [
    "## Key points"
   ]
  },
  {
   "cell_type": "markdown",
   "id": "13c50d38-2b99-495a-80cd-58b8566f9525",
   "metadata": {},
   "source": [
    "- beautiful soup lets you grab links out of a webpage so that you can then download them\n",
    "- if you need to get more than one request worth of results from an API, they usually provide some \"pagination\" capabilities so you can make all the requests programmatically.\n",
    "- web scraping is a wide world - if you get stuck, try searching for some of the keywords above."
   ]
  },
  {
   "cell_type": "code",
   "execution_count": null,
   "id": "71014a45-fc32-499f-b05e-fbb1ae731d22",
   "metadata": {
    "jupyter": {
     "source_hidden": true
    }
   },
   "outputs": [],
   "source": []
  }
 ],
 "metadata": {
  "kernelspec": {
   "display_name": "Python 3 (ipykernel)",
   "language": "python",
   "name": "python3"
  },
  "language_info": {
   "codemirror_mode": {
    "name": "ipython",
    "version": 3
   },
   "file_extension": ".py",
   "mimetype": "text/x-python",
   "name": "python",
   "nbconvert_exporter": "python",
   "pygments_lexer": "ipython3",
   "version": "3.12.9"
  }
 },
 "nbformat": 4,
 "nbformat_minor": 5
}
