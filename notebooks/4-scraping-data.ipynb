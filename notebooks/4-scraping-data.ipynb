{
 "cells": [
  {
   "cell_type": "markdown",
   "id": "0d3010c6-1cce-49f6-9b9e-be36d9facac8",
   "metadata": {},
   "source": [
    "# Web Scraping & Pagination"
   ]
  },
  {
   "cell_type": "markdown",
   "id": "75882dac-368d-4a2a-a49b-3cd8aa650de8",
   "metadata": {
    "jp-MarkdownHeadingCollapsed": true
   },
   "source": [
    "## EIA Forms 923/906"
   ]
  },
  {
   "cell_type": "markdown",
   "id": "c152fbd7-5f11-4558-8c25-8a6ac26b331e",
   "metadata": {
    "jp-MarkdownHeadingCollapsed": true
   },
   "source": [
    "### Example: getting links from a webpage"
   ]
  },
  {
   "cell_type": "code",
   "execution_count": null,
   "id": "dfe3c9fd-33bb-42a5-9a4c-705bacbf7df6",
   "metadata": {
    "collapsed": true,
    "jupyter": {
     "outputs_hidden": true,
     "source_hidden": true
    }
   },
   "outputs": [],
   "source": []
  },
  {
   "cell_type": "markdown",
   "id": "64ff327a-ca22-419d-80fe-3a3f1b66c78b",
   "metadata": {
    "jp-MarkdownHeadingCollapsed": true
   },
   "source": [
    "### Challenge: get all the `a` tags from EIA 906"
   ]
  },
  {
   "cell_type": "markdown",
   "id": "e31a5a79-1571-4ec4-92e7-b229961765ab",
   "metadata": {},
   "source": [
    "Lots of the data that is collected in EIA 923 was collected in EIA 906 in the past.\n",
    "\n",
    "We'll have you work through the scraping steps on the 906 data to get a sense of how this all works.\n",
    "\n",
    "\n",
    "The first step is to get all the `a` tags from this page:\n",
    "\n",
    "```\n",
    "https://www.eia.gov/electricity/data/eia923/eia906u.php\n",
    "```\n",
    "\n",
    "Start with this skeleton code:\n",
    "\n",
    "```python\n",
    "import bs4\n",
    "import requests\n",
    "\n",
    "eia_906_url = \"https://www.eia.gov/electricity/data/eia923/eia906u.php\"\n",
    "\n",
    "# get the page contents, then use bs4 to get the `a` tags\n",
    "```"
   ]
  },
  {
   "cell_type": "markdown",
   "id": "f0494267-5125-4f21-a6f6-4e9858b08805",
   "metadata": {},
   "source": [
    "### Solution"
   ]
  },
  {
   "cell_type": "markdown",
   "id": "eeb3ecde-734a-42d2-ad31-946d26116255",
   "metadata": {
    "jp-MarkdownHeadingCollapsed": true
   },
   "source": [
    "### Example: filtering tags"
   ]
  },
  {
   "cell_type": "code",
   "execution_count": null,
   "id": "222995ec-9bb8-4ba3-9432-7bcd184ebf56",
   "metadata": {
    "collapsed": true,
    "jupyter": {
     "outputs_hidden": true,
     "source_hidden": true
    }
   },
   "outputs": [],
   "source": []
  },
  {
   "cell_type": "markdown",
   "id": "b2ff279e-3b5d-4748-bc36-99e521d426ab",
   "metadata": {
    "jp-MarkdownHeadingCollapsed": true
   },
   "source": [
    "### Challenge: only get the relevant `a` tags"
   ]
  },
  {
   "cell_type": "markdown",
   "id": "f91ffe3b-10c8-488f-9db2-99ccbd6da391",
   "metadata": {},
   "source": [
    "Let's grab only the `a` tags that are links to the actual data files.\n",
    "\n",
    "This will look a little bit different from the 923 example, since the links are all to XLS files instead of ZIP files.\n",
    "\n",
    "Let's start with this code:\n",
    "\n",
    "```python\n",
    "import bs4\n",
    "import requests\n",
    "\n",
    "eia_906_url = \"https://www.eia.gov/electricity/data/eia923/eia906u.php\"\n",
    "response = requests.get(eia_906_url)\n",
    "soup = bs4.BeautifulSoup(response.text)\n",
    "\n",
    "# get only the `a` tags that are links to Form 906 data files.\n",
    "```"
   ]
  },
  {
   "cell_type": "markdown",
   "id": "06c8b510-1a50-4e64-84e4-cbf0e993a521",
   "metadata": {
    "jp-MarkdownHeadingCollapsed": true
   },
   "source": [
    "### Solution"
   ]
  },
  {
   "cell_type": "code",
   "execution_count": null,
   "id": "ae34cbd3-7fa2-48d5-9e8d-0d901a1ec19a",
   "metadata": {
    "collapsed": true,
    "jupyter": {
     "outputs_hidden": true,
     "source_hidden": true
    }
   },
   "outputs": [],
   "source": []
  },
  {
   "cell_type": "markdown",
   "id": "db1592b1-44ef-46b2-a6d2-e57605b0870b",
   "metadata": {
    "jp-MarkdownHeadingCollapsed": true
   },
   "source": [
    "### Example: downloading data"
   ]
  },
  {
   "cell_type": "code",
   "execution_count": null,
   "id": "47e2bc48-89f5-44e1-988b-878f28bdd489",
   "metadata": {
    "collapsed": true,
    "jupyter": {
     "outputs_hidden": true,
     "source_hidden": true
    }
   },
   "outputs": [],
   "source": []
  },
  {
   "cell_type": "markdown",
   "id": "719540d2-bb0b-4995-9c42-5b1892addea2",
   "metadata": {
    "jp-MarkdownHeadingCollapsed": true
   },
   "source": [
    "### Challenge: get the Form 906 file contents"
   ]
  },
  {
   "cell_type": "markdown",
   "id": "6631747e-da4e-4580-93b2-d2c71cb84b5f",
   "metadata": {},
   "source": [
    "OK, so now we know how to scrape a bunch of URLs from a webpage. Let's read the Form 906 files into our program! Since they're XLS files, we can read them directly from a URL using `pandas.read_excel` - no need for manually downloading with `requests`.\n",
    "\n",
    "Try filling out the body of this for loop.\n",
    "\n",
    "```python\n",
    "from urllib.parse import urljoin\n",
    "\n",
    "import bs4\n",
    "import requests\n",
    "import pandas as pd\n",
    "\n",
    "eia_906_url = \"https://www.eia.gov/electricity/data/eia923/eia906u.php\"\n",
    "response = requests.get(eia_906_url)\n",
    "soup = bs4.BeautifulSoup(response.text)\n",
    "\n",
    "a_tags = soup.find_all(\"a\", href=True)\n",
    "eia_906_links = []\n",
    "for a in a_tags:\n",
    "    if \".xls\" in a[\"href\"].lower():\n",
    "        eia_906_links.append(a)\n",
    "\n",
    "eia_906_dataframes = []\n",
    "for a in eia_906_links:\n",
    "    ___\n",
    "```"
   ]
  },
  {
   "cell_type": "markdown",
   "id": "8a1bda53-66ff-4831-b1f1-c3be1cafd812",
   "metadata": {
    "jp-MarkdownHeadingCollapsed": true
   },
   "source": [
    "### Solution"
   ]
  },
  {
   "cell_type": "code",
   "execution_count": null,
   "id": "3825a7b3-d098-4ae8-8d88-b0460342be5b",
   "metadata": {
    "collapsed": true,
    "jupyter": {
     "outputs_hidden": true,
     "source_hidden": true
    }
   },
   "outputs": [],
   "source": []
  },
  {
   "cell_type": "markdown",
   "id": "9d5e7fee-c830-46cb-a50a-7ca1426efaaa",
   "metadata": {
    "jp-MarkdownHeadingCollapsed": true
   },
   "source": [
    "### Discussion"
   ]
  },
  {
   "cell_type": "markdown",
   "id": "bd57043f-c89a-4bee-be17-e75644fa33b5",
   "metadata": {},
   "source": [
    "Why might you choose to do all this instead of just manually collecting links?"
   ]
  },
  {
   "cell_type": "markdown",
   "id": "01e1a583-6f68-447c-b427-fe7b1a731182",
   "metadata": {
    "jp-MarkdownHeadingCollapsed": true
   },
   "source": [
    "## Pagination"
   ]
  },
  {
   "cell_type": "markdown",
   "id": "b666da7b-473c-47e0-873a-45f64b88d4b0",
   "metadata": {
    "jp-MarkdownHeadingCollapsed": true
   },
   "source": [
    "### Example: getting the first few pages"
   ]
  },
  {
   "cell_type": "code",
   "execution_count": null,
   "id": "46cb7b3f-b3ea-465a-b99f-4ebec519b541",
   "metadata": {
    "collapsed": true,
    "jupyter": {
     "outputs_hidden": true,
     "source_hidden": true
    }
   },
   "outputs": [],
   "source": []
  },
  {
   "cell_type": "markdown",
   "id": "3dc42574-c9d5-4f16-a625-0a85321849b0",
   "metadata": {
    "jp-MarkdownHeadingCollapsed": true
   },
   "source": [
    "### Challenge: pagination"
   ]
  },
  {
   "cell_type": "markdown",
   "id": "4001bf6b-af55-4f7b-bb9b-28ec1772fd82",
   "metadata": {},
   "source": [
    "OK, now let's put it all together! Let's fill in the blanks for this code:\n",
    "\n",
    "```python\n",
    "import math\n",
    "\n",
    "import pandas as pd\n",
    "import requests\n",
    "\n",
    "base_url = \"https://api.eia.gov/v2/electricity\"\n",
    "api_key = \"3zjKYxV86AqtJWSRoAECir1wQFscVu6lxXnRVKG8\"\n",
    "\n",
    "page = requests.get(\n",
    "  f\"{base_url}/facility-fuel/data\",\n",
    "  params={\n",
    "    \"data[]\": \"generation\",\n",
    "    \"facets[state][]\": \"CO\",\n",
    "    \"api_key\": api_key\n",
    "  }\n",
    ").json()[\"response\"]\n",
    "\n",
    "total_rows = ___\n",
    "page_size = 5000\n",
    "num_pages = ___\n",
    "\n",
    "all_records = []\n",
    "for page_num in range(num_pages):\n",
    "    offset = ___\n",
    "    page = requests.get(\n",
    "      f\"{base_url}/facility-fuel/data\",\n",
    "      params={\n",
    "        \"data[]\": \"generation\",\n",
    "        \"facets[state][]\": \"CO\",\n",
    "        ___,\n",
    "        \"api_key\": api_key\n",
    "      }\n",
    "    ).json()[\"response\"]\n",
    "    all_records.extend(pd.DataFrame(page_of_data[\"data\"]))\n",
    "\n",
    "df = pd.concat(all_records)\n",
    "```"
   ]
  },
  {
   "cell_type": "markdown",
   "id": "3a3e9ab2-852b-4bea-878e-5b9b32afaa1b",
   "metadata": {},
   "source": [
    "### Solution"
   ]
  },
  {
   "cell_type": "markdown",
   "id": "0e5ec354-9f10-4972-a4cf-e4ebb4602218",
   "metadata": {
    "jp-MarkdownHeadingCollapsed": true
   },
   "source": [
    "## Key points"
   ]
  },
  {
   "cell_type": "markdown",
   "id": "13c50d38-2b99-495a-80cd-58b8566f9525",
   "metadata": {},
   "source": [
    "- beautiful soup lets you grab links out of a webpage so that you can then download them\n",
    "- if you need to get more than one request worth of results from an API, they usually provide some \"pagination\" capabilities so you can make all the requests programmatically.\n",
    "- web scraping is a wide world - if you get stuck, try searching for some of the keywords above."
   ]
  },
  {
   "cell_type": "code",
   "execution_count": null,
   "id": "71014a45-fc32-499f-b05e-fbb1ae731d22",
   "metadata": {
    "collapsed": true,
    "jupyter": {
     "outputs_hidden": true,
     "source_hidden": true
    }
   },
   "outputs": [],
   "source": []
  }
 ],
 "metadata": {
  "kernelspec": {
   "display_name": "pudl-dev",
   "language": "python",
   "name": "python3"
  },
  "language_info": {
   "codemirror_mode": {
    "name": "ipython",
    "version": 3
   },
   "file_extension": ".py",
   "mimetype": "text/x-python",
   "name": "python",
   "nbconvert_exporter": "python",
   "pygments_lexer": "ipython3",
   "version": "3.12.9"
  }
 },
 "nbformat": 4,
 "nbformat_minor": 5
}
