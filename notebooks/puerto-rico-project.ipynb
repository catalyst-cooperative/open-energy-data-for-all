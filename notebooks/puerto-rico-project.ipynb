{
 "cells": [
  {
   "cell_type": "code",
   "execution_count": 1,
   "id": "d7b1c0f4",
   "metadata": {},
   "outputs": [],
   "source": [
    "import pandas as pd\n",
    "import numpy as np\n",
    "\n",
    "pr_gen_fuel = pd.read_pickle('../data/raw_eia923__puerto_rico_generation_fuel')"
   ]
  },
  {
   "cell_type": "code",
   "execution_count": 2,
   "id": "7ebcc632",
   "metadata": {},
   "outputs": [],
   "source": [
    "pd.set_option('future.no_silent_downcasting', True)"
   ]
  },
  {
   "cell_type": "code",
   "execution_count": 3,
   "id": "4134e1e3-b7a7-4f5f-be2d-8632eea54c31",
   "metadata": {},
   "outputs": [],
   "source": [
    "# Handle EIA null values\n",
    "pr_gen_fuel = pr_gen_fuel.replace(to_replace = \".\", value = pd.NA)\n",
    "# Convert data types (mmbtu/units to numeric)\n",
    "pr_gen_fuel = pr_gen_fuel.convert_dtypes()"
   ]
  },
  {
   "cell_type": "code",
   "execution_count": 6,
   "id": "d64a15fc-121d-45fe-ad4c-21227b494deb",
   "metadata": {},
   "outputs": [],
   "source": [
    "# create some useful column sets\n",
    "primary_key_columns = ['plant_id_eia', 'plant_name_eia', 'report_year', 'prime_mover_code', 'energy_source_code']\n",
    "\n",
    "monthly_variables = []\n",
    "for col in pr_gen_fuel.columns:\n",
    "    if col.endswith(\"january\"):\n",
    "        monthly_variables.append(col.replace(\"_january\", \"\"))\n",
    "\n",
    "monthly_columns = []\n",
    "for col in pr_gen_fuel.columns:\n",
    "    for var in monthly_variables:\n",
    "        if col.startswith(var):\n",
    "            monthly_columns.append(col)"
   ]
  },
  {
   "cell_type": "code",
   "execution_count": 8,
   "id": "fee3fa1b-36e8-4135-b17b-8824cbaf1b22",
   "metadata": {},
   "outputs": [],
   "source": [
    "# pivot the monthly variables into their own df\n",
    "monthly_dfs = []\n",
    "# swap in a different date column\n",
    "monthly_primary_key_columns = [\"date\"] + [c for c in primary_key_columns if c != \"report_year\"]\n",
    "for monthly_var in monthly_variables:\n",
    "    ## Only keep the index and monthly variable columns\n",
    "    column_subset_list = primary_key_columns + [col for col in pr_gen_fuel.columns if col.startswith(monthly_var)]\n",
    "    var_pivot = (\n",
    "        pr_gen_fuel.loc[:, column_subset_list]\n",
    "        .melt(id_vars = primary_key_columns)\n",
    "    )\n",
    "    ## Split the month from the variable\n",
    "    var_pivot[['variable', 'month']] = var_pivot['variable'].str.rsplit(\"_\", n=1, expand=True)\n",
    "    ## Create date from month and year\n",
    "    var_pivot['date'] = pd.to_datetime(var_pivot['month'] + var_pivot['report_year'].astype(str), format='%B%Y')\n",
    "    # we don't need the year/month/variable cols anymore\n",
    "    monthly_dfs.append(\n",
    "        var_pivot.drop(columns=[\"report_year\", \"month\", \"variable\"])\n",
    "        .rename(columns={\"value\":monthly_var})\n",
    "        # setting an index so we can concatenate later\n",
    "        .set_index(monthly_primary_key_columns)\n",
    "    )\n",
    "pr_gen_fuel_monthly = pd.concat(monthly_dfs, axis=\"columns\").reset_index()"
   ]
  },
  {
   "cell_type": "code",
   "execution_count": 12,
   "id": "e14c8afa-0c24-4faa-85c2-a5f96f10c2a5",
   "metadata": {},
   "outputs": [],
   "source": [
    "# the rest of the columns are annual\n",
    "pr_gen_fuel_annual = pr_gen_fuel.drop(columns=monthly_columns)"
   ]
  },
  {
   "cell_type": "code",
   "execution_count": 11,
   "id": "bee3c655-045b-4884-a810-491534053d11",
   "metadata": {},
   "outputs": [],
   "source": [
    "# drop a bad plant\n",
    "pr_gen_fuel_monthly = (\n",
    "    pr_gen_fuel_monthly.loc[~(\n",
    "        (pr_gen_fuel_monthly.plant_id_eia == 62410)\n",
    "        & (pr_gen_fuel_monthly.date.dt.year == 2020)\n",
    "        & (pr_gen_fuel_monthly.fuel_consumed_for_electricity_mmbtu.isnull()))]\n",
    ")"
   ]
  }
 ],
 "metadata": {
  "kernelspec": {
   "display_name": "Python 3 (ipykernel)",
   "language": "python",
   "name": "python3"
  },
  "language_info": {
   "codemirror_mode": {
    "name": "ipython",
    "version": 3
   },
   "file_extension": ".py",
   "mimetype": "text/x-python",
   "name": "python",
   "nbconvert_exporter": "python",
   "pygments_lexer": "ipython3",
   "version": "3.12.11"
  }
 },
 "nbformat": 4,
 "nbformat_minor": 5
}
