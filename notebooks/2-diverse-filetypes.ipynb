{
 "cells": [
  {
   "cell_type": "markdown",
   "id": "2072e221-3f2f-42ac-8d1c-81c6f93d3137",
   "metadata": {},
   "source": [
    "_a small incantation so the paths make sense_"
   ]
  },
  {
   "cell_type": "code",
   "execution_count": null,
   "id": "61bc5855-c4df-4b5f-b211-ab5cf9a75aad",
   "metadata": {},
   "outputs": [],
   "source": [
    "import os\n",
    "os.chdir(\"..\")"
   ]
  },
  {
   "cell_type": "markdown",
   "id": "eb82f966-d861-41f7-826e-c99ba10e4243",
   "metadata": {},
   "source": [
    "# Reading spreadsheet files"
   ]
  },
  {
   "cell_type": "code",
   "execution_count": null,
   "id": "c3aa00ab-6165-4aeb-b560-3e7ed76a4529",
   "metadata": {},
   "outputs": [],
   "source": [
    "import pandas as pd\n",
    "pd.read_excel('data/eia923_2022.xlsx')"
   ]
  },
  {
   "cell_type": "code",
   "execution_count": null,
   "id": "b63ad9b4-b4d3-4b36-95b3-289bbfe58340",
   "metadata": {},
   "outputs": [],
   "source": [
    "help(pd.read_excel)"
   ]
  },
  {
   "cell_type": "code",
   "execution_count": null,
   "id": "c0bf85f4-164e-4226-8e5b-8c2355f84536",
   "metadata": {},
   "outputs": [],
   "source": [
    "pd.read_excel('data/eia923_2022.xlsx', nrows=100)"
   ]
  },
  {
   "cell_type": "markdown",
   "id": "e417358b-7c7e-4166-a1b6-745dc5324183",
   "metadata": {},
   "source": [
    "## Challenge: Ignore the first few rows when loading an excel file into a pandas data frame\n",
    "\n",
    "Looking at the documentation for `pd.read_excel()`, identify the parameter needed to ignore the first few rows of the spreadsheet. Then, using `pd.read_excel()`, read in the `eia923_2022.xlsx` file using this parameter to skip any rows that don't contain the column headers."
   ]
  },
  {
   "cell_type": "code",
   "execution_count": null,
   "id": "a4a7893d-e31f-4bae-b8f0-0f0999b37bcc",
   "metadata": {},
   "outputs": [],
   "source": [
    "eia923_excel_df = pd.read_excel(\n",
    "    'data/eia923_2022.xlsx',\n",
    "    # specify that we want to skip the rows before the column headers\n",
    ")"
   ]
  },
  {
   "cell_type": "markdown",
   "id": "7f6400f9-ffb1-47bd-9541-c009acf4abae",
   "metadata": {},
   "source": [
    "# Reading JSON files"
   ]
  },
  {
   "cell_type": "code",
   "execution_count": null,
   "id": "b7e9ada9-44a1-4d1f-a060-766185242fc5",
   "metadata": {},
   "outputs": [],
   "source": [
    "import json\n",
    "with open('data/eia923_2022.json') as file:\n",
    "    eia923_json = json.load(file)\n",
    "\n",
    "eia923_json"
   ]
  },
  {
   "cell_type": "code",
   "execution_count": null,
   "id": "c0461dc5-c39b-459d-85ce-8156246e3f87",
   "metadata": {},
   "outputs": [],
   "source": [
    "eia923_json.keys()"
   ]
  },
  {
   "cell_type": "code",
   "execution_count": null,
   "id": "b4009828-45cf-4897-aa55-cd206207ebcb",
   "metadata": {},
   "outputs": [],
   "source": [
    "eia923_json['response']"
   ]
  },
  {
   "cell_type": "code",
   "execution_count": null,
   "id": "6d585378-02ae-48a3-84b6-a9132bb98d86",
   "metadata": {},
   "outputs": [],
   "source": [
    "eia923_json['response']['warnings']"
   ]
  },
  {
   "cell_type": "code",
   "execution_count": null,
   "id": "0a21dad4-1fcf-4f06-91ce-06382ba95d44",
   "metadata": {},
   "outputs": [],
   "source": [
    "pd.DataFrame(eia923_json['response']['warnings'])"
   ]
  },
  {
   "cell_type": "markdown",
   "id": "e4617313-5ab6-4a0e-8471-f89adc4e8e5a",
   "metadata": {},
   "source": [
    "## Challenge: Load the data table from the JSON file into a pandas data frame\n",
    "\n",
    "Fill in the blanks in the code below to read in the `data` from the `eia923_2022.json` file into a Pandas DataFrame."
   ]
  },
  {
   "cell_type": "code",
   "execution_count": null,
   "id": "8e38262c-25c7-46b7-9ba1-f12e0a2f15b0",
   "metadata": {},
   "outputs": [],
   "source": [
    "with open('data/eia923_2022.json') as file:\n",
    "    eia923_json = # load the JSON file contents into a dictionary\n",
    "\n",
    "eia923_json_df = pd.DataFrame(\n",
    "    # traverse the eia923_json dict to get just the data table\n",
    ")"
   ]
  },
  {
   "cell_type": "markdown",
   "id": "da3510b5-de03-403f-94c3-b4270094b464",
   "metadata": {
    "jp-MarkdownHeadingCollapsed": true
   },
   "source": [
    "### Hint"
   ]
  },
  {
   "cell_type": "markdown",
   "id": "03b0004e-3310-48ae-9116-e8ed4e69b903",
   "metadata": {},
   "source": [
    "First, read in the file using `open()` and `json.load()`. Once you've read in the file, you can iterate through the `.keys()` of the dictionary to find the path to the `data` portion of the file."
   ]
  },
  {
   "cell_type": "markdown",
   "id": "7b087b27-5e83-4700-8321-b0e05dda8d1c",
   "metadata": {},
   "source": [
    "# Reading XML files"
   ]
  },
  {
   "cell_type": "markdown",
   "id": "c99940db-7a84-44c0-90e5-a9d6ea6e08e7",
   "metadata": {},
   "source": [
    "Consider the following XML data representing a message from our postdoc on his hasty departure:\n",
    "\n",
    "```xml\n",
    "<note>\n",
    "  <from>Saul R. Panel</from>\n",
    "  <to>Dr. Watts</to>\n",
    "  <heading>Note about project</heading>\n",
    "  <body>Sorry for leaving the project in an incomplete state!</body>\n",
    "</note>\n",
    "```\n",
    "\n",
    "The same data could be represented in JSON:\n",
    "\n",
    "```\n",
    "{\n",
    "  \"note\": {\n",
    "    \"from\": \"Saul R. Panel\",\n",
    "    \"to\": \"Dr. Watts\",\n",
    "    \"heading\": \"Note about project\",\n",
    "    \"body\": \"Sorry for leaving the project in an incomplete state!\"\n",
    "  }\n",
    "}\n",
    "```"
   ]
  },
  {
   "cell_type": "code",
   "execution_count": null,
   "id": "5d5677b3-2930-4ade-8ae2-a94fd6efbffa",
   "metadata": {},
   "outputs": [],
   "source": [
    "pd.read_xml('data/eia923_2022.xml').head()"
   ]
  },
  {
   "cell_type": "code",
   "execution_count": null,
   "id": "338340eb-52f8-4e0c-9081-4d0282a55c92",
   "metadata": {},
   "outputs": [],
   "source": [
    "pd.read_xml('data/eia923_2022.xml', xpath = \"//response/warnings/row\").head()"
   ]
  },
  {
   "cell_type": "markdown",
   "id": "8969b2ca-560d-43c2-93cc-d284b0522087",
   "metadata": {},
   "source": [
    "## Challenge: Load the data table from the XML file into a pandas data frame\n",
    "\n",
    "Read in all the rows of the `data` table in `eia923_2022.xml` into a Pandas DataFrame, using `pd.read_xml` and the `xpath` parameter."
   ]
  },
  {
   "cell_type": "code",
   "execution_count": null,
   "id": "4d115a9e-034b-41b6-88fa-14e2f7c8f318",
   "metadata": {},
   "outputs": [],
   "source": [
    "eia923_xml_df = pd.read_xml(\n",
    "    'data/eia923_2022.xml', \n",
    "    xpath = # path to the data table\n",
    ")"
   ]
  },
  {
   "cell_type": "markdown",
   "id": "37dcf64e-1d78-4732-becf-16c25b82cdd9",
   "metadata": {},
   "source": [
    "# Reading parquet files"
   ]
  },
  {
   "cell_type": "code",
   "execution_count": null,
   "id": "d4659b7c-9b40-4f46-80ed-c11838eb2d48",
   "metadata": {},
   "outputs": [],
   "source": [
    "eia923_parquet_df = pd.read_parquet('data/eia923_2022.parquet')"
   ]
  },
  {
   "cell_type": "markdown",
   "id": "5be8a975-b0a0-4daa-b86d-45ecdd3b7616",
   "metadata": {
    "jp-MarkdownHeadingCollapsed": true
   },
   "source": [
    "## Bonus challenge, if time: Compare datasets\n",
    "\n",
    "Pick two datasets we've just read in, and compare them. How are they similar, and how are they different?"
   ]
  },
  {
   "cell_type": "code",
   "execution_count": null,
   "id": "180e95b6-2b64-4975-8d18-bcd607ee0ab4",
   "metadata": {},
   "outputs": [],
   "source": [
    "## choose from:\n",
    "# eia923_excel_df\n",
    "# eia923_json_df\n",
    "# eia923_xml_df\n",
    "# eia923_parquet_df"
   ]
  }
 ],
 "metadata": {
  "kernelspec": {
   "display_name": "Python 3 (ipykernel)",
   "language": "python",
   "name": "python3"
  },
  "language_info": {
   "codemirror_mode": {
    "name": "ipython",
    "version": 3
   },
   "file_extension": ".py",
   "mimetype": "text/x-python",
   "name": "python",
   "nbconvert_exporter": "python",
   "pygments_lexer": "ipython3",
   "version": "3.12.9"
  }
 },
 "nbformat": 4,
 "nbformat_minor": 5
}
